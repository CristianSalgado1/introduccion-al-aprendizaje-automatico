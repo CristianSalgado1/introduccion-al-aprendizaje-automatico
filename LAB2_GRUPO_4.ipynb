{
 "cells": [
  {
   "cell_type": "markdown",
   "metadata": {},
   "source": [
    "# Laboratorio 2: Armado de un esquema de aprendizaje automático\n",
    "\n",
    "En el laboratorio final se espera que puedan poner en práctica los conocimientos adquiridos en el curso, trabajando con un conjunto de datos de clasificación.\n",
    "\n",
    "El objetivo es que se introduzcan en el desarrollo de un esquema para hacer tareas de aprendizaje automático: selección de un modelo, ajuste de hiperparámetros y evaluación.\n",
    "\n",
    "El conjunto de datos a utilizar está en `./data/loan_data.csv`. Si abren el archivo verán que al principio (las líneas que empiezan con `#`) describen el conjunto de datos y sus atributos (incluyendo el atributo de etiqueta o clase).\n",
    "\n",
    "Se espera que hagan uso de las herramientas vistas en el curso. Se espera que hagan uso especialmente de las herramientas brindadas por `scikit-learn`."
   ]
  },
  {
   "cell_type": "code",
   "execution_count": null,
   "metadata": {},
   "outputs": [],
   "source": []
  },
  {
   "cell_type": "code",
   "execution_count": 1,
   "metadata": {},
   "outputs": [],
   "source": [
    "import numpy as np\n",
    "import pandas as pd\n",
    "import seaborn as sns\n",
    "import matplotlib.pyplot as plt\n",
    "\n",
    "from sklearn.model_selection import train_test_split\n",
    "from sklearn.exceptions import DataConversionWarning\n",
    "np.random.seed(1314)  # Para mayor determinismo\n",
    "rnd_state = 42112"
   ]
  },
  {
   "cell_type": "code",
   "execution_count": 2,
   "metadata": {},
   "outputs": [],
   "source": [
    "import warnings\n",
    "warnings.filterwarnings(\"ignore\", category=DeprecationWarning)\n",
    "warnings.filterwarnings(\"ignore\", category=FutureWarning)\n",
    "warnings.filterwarnings(\"ignore\", category=DataConversionWarning)"
   ]
  },
  {
   "cell_type": "markdown",
   "metadata": {},
   "source": [
    "## Carga de datos y división en entrenamiento y evaluación\n",
    "\n",
    "La celda siguiente se encarga de la carga de datos (haciendo uso de pandas). Estos serán los que se trabajarán en el resto del laboratorio."
   ]
  },
  {
   "cell_type": "code",
   "execution_count": 3,
   "metadata": {},
   "outputs": [],
   "source": [
    "dataset = pd.read_csv(\"./loan_data.csv\", comment=\"#\")\n",
    "\n",
    "\n",
    "# División entre instancias y etiquetas\n",
    "X, y = dataset.iloc[:, 1:], dataset.TARGET\n",
    "\n",
    "# división entre entrenamiento y evaluación\n",
    "X_train, X_test, y_train, y_test = train_test_split(X, y, test_size=0.2, random_state=rnd_state)"
   ]
  },
  {
   "cell_type": "code",
   "execution_count": null,
   "metadata": {},
   "outputs": [],
   "source": []
  },
  {
   "cell_type": "markdown",
   "metadata": {},
   "source": [
    "\n",
    "Documentación:\n",
    "\n",
    "- https://scikit-learn.org/stable/modules/generated/sklearn.model_selection.train_test_split.html"
   ]
  },
  {
   "cell_type": "code",
   "execution_count": null,
   "metadata": {},
   "outputs": [],
   "source": []
  },
  {
   "cell_type": "markdown",
   "metadata": {},
   "source": [
    "## Ejercicio 1: Descripción de los Datos y la Tarea\n",
    "\n",
    "Responder las siguientes preguntas:\n",
    "\n",
    "1. ¿De qué se trata el conjunto de datos?\n",
    "2. ¿Cuál es la variable objetivo que hay que predecir? ¿Qué significado tiene?\n",
    "3. ¿Qué información (atributos) hay disponible para hacer la predicción?\n",
    "4. ¿Qué atributos imagina ud. que son los más determinantes para la predicción?\n",
    "\n",
    "**No hace falta escribir código para responder estas preguntas.**"
   ]
  },
  {
   "cell_type": "markdown",
   "metadata": {},
   "source": [
    "El conjunto de datos se trata de diferentes prestamos bancarios a distintas personas. Lo que nos interesa predecir es si la persona pago o es deudora del prestamo.\n",
    "\n",
    "Para poder hacer esa predicción contamos con los siguientes features:\n",
    "  * TARGET: Variable Categorica. 1 = prestado adeudado - 0 = prestamo pagado\n",
    "  * LOAN:   Cantidad de dinero prestado\n",
    "  * MORTDUE Amount due on existing mortgage\n",
    "  * VALUE   Valor de la propiedad actual\n",
    "  * YOJ     Antigüedad laboral actual\n",
    "  * DEROG   Number of major derogatory reports\n",
    "  * DELINQ  Number of delinquent credit lines\n",
    "  * CLAGE   Age of oldest trade line in months\n",
    "  * NINQ    Cantidad de creditos recientes\n",
    "  * CLNO    Cantidad de creditos\n",
    "  * DEBTINC Debt-to-income ratio\n",
    "\n",
    "A priori, los features más determinantes para la predicción parecen ser:\n",
    "  * DEBTINC\n",
    "  * LOAN\n",
    "  * NINQ\n",
    "\n"
   ]
  },
  {
   "cell_type": "markdown",
   "metadata": {},
   "source": [
    "Para evaluar el accuracy de la calsificación, es importante conocer cual es la distribucion de los datos en la label TARGET"
   ]
  },
  {
   "cell_type": "code",
   "execution_count": 4,
   "metadata": {},
   "outputs": [
    {
     "data": {
      "text/plain": [
       "LOAN         int64\n",
       "MORTDUE    float64\n",
       "VALUE      float64\n",
       "YOJ        float64\n",
       "DEROG      float64\n",
       "DELINQ     float64\n",
       "CLAGE      float64\n",
       "NINQ       float64\n",
       "CLNO       float64\n",
       "DEBTINC    float64\n",
       "dtype: object"
      ]
     },
     "execution_count": 4,
     "metadata": {},
     "output_type": "execute_result"
    }
   ],
   "source": [
    "X.dtypes"
   ]
  },
  {
   "cell_type": "code",
   "execution_count": 5,
   "metadata": {},
   "outputs": [
    {
     "data": {
      "text/plain": [
       "<matplotlib.axes._subplots.AxesSubplot at 0x2479aa81448>"
      ]
     },
     "execution_count": 5,
     "metadata": {},
     "output_type": "execute_result"
    },
    {
     "data": {
      "image/png": "[encoded data removed]",
      "text/plain": [
       "<Figure size 432x288 with 1 Axes>"
      ]
     },
     "metadata": {
      "needs_background": "light"
     },
     "output_type": "display_data"
    }
   ],
   "source": [
    "sns.countplot(dataset[\"TARGET\"])"
   ]
  },
  {
   "cell_type": "code",
   "execution_count": 6,
   "metadata": {},
   "outputs": [
    {
     "data": {
      "text/plain": [
       "0    0.833333\n",
       "1    0.166667\n",
       "Name: TARGET, dtype: float64"
      ]
     },
     "execution_count": 6,
     "metadata": {},
     "output_type": "execute_result"
    }
   ],
   "source": [
    "dataset[\"TARGET\"].value_counts().div(dataset[\"TARGET\"].shape[0])"
   ]
  },
  {
   "cell_type": "markdown",
   "metadata": {},
   "source": [
    "Aproximadamente el 83% de los datos es 0, por lo tanto un modelo que prediga todos 0 va a tenre un accuraxy de 83%. Tenemos que ser capaces de mejorar eso. \n",
    "\n",
    "Vemos si se mantiene en el training set"
   ]
  },
  {
   "cell_type": "code",
   "execution_count": 7,
   "metadata": {},
   "outputs": [
    {
     "data": {
      "text/html": [
       "<div>\n",
       "<style scoped>\n",
       "    .dataframe tbody tr th:only-of-type {\n",
       "        vertical-align: middle;\n",
       "    }\n",
       "\n",
       "    .dataframe tbody tr th {\n",
       "        vertical-align: top;\n",
       "    }\n",
       "\n",
       "    .dataframe thead th {\n",
       "        text-align: right;\n",
       "    }\n",
       "</style>\n",
       "<table border=\"1\" class=\"dataframe\">\n",
       "  <thead>\n",
       "    <tr style=\"text-align: right;\">\n",
       "      <th></th>\n",
       "      <th>TARGET</th>\n",
       "      <th>LOAN</th>\n",
       "      <th>MORTDUE</th>\n",
       "      <th>VALUE</th>\n",
       "      <th>YOJ</th>\n",
       "      <th>DEROG</th>\n",
       "      <th>DELINQ</th>\n",
       "      <th>CLAGE</th>\n",
       "      <th>NINQ</th>\n",
       "      <th>CLNO</th>\n",
       "      <th>DEBTINC</th>\n",
       "    </tr>\n",
       "  </thead>\n",
       "  <tbody>\n",
       "    <tr>\n",
       "      <th>0</th>\n",
       "      <td>0</td>\n",
       "      <td>4700</td>\n",
       "      <td>88026.0</td>\n",
       "      <td>115506.0</td>\n",
       "      <td>6.0</td>\n",
       "      <td>0.0</td>\n",
       "      <td>0.0</td>\n",
       "      <td>182.248332</td>\n",
       "      <td>0.0</td>\n",
       "      <td>27.0</td>\n",
       "      <td>29.209023</td>\n",
       "    </tr>\n",
       "    <tr>\n",
       "      <th>1</th>\n",
       "      <td>0</td>\n",
       "      <td>19300</td>\n",
       "      <td>39926.0</td>\n",
       "      <td>101208.0</td>\n",
       "      <td>4.0</td>\n",
       "      <td>0.0</td>\n",
       "      <td>0.0</td>\n",
       "      <td>140.051638</td>\n",
       "      <td>0.0</td>\n",
       "      <td>14.0</td>\n",
       "      <td>31.545694</td>\n",
       "    </tr>\n",
       "    <tr>\n",
       "      <th>2</th>\n",
       "      <td>0</td>\n",
       "      <td>5700</td>\n",
       "      <td>71556.0</td>\n",
       "      <td>79538.0</td>\n",
       "      <td>2.0</td>\n",
       "      <td>0.0</td>\n",
       "      <td>0.0</td>\n",
       "      <td>92.643085</td>\n",
       "      <td>0.0</td>\n",
       "      <td>15.0</td>\n",
       "      <td>41.210012</td>\n",
       "    </tr>\n",
       "    <tr>\n",
       "      <th>3</th>\n",
       "      <td>0</td>\n",
       "      <td>13000</td>\n",
       "      <td>44875.0</td>\n",
       "      <td>57713.0</td>\n",
       "      <td>0.0</td>\n",
       "      <td>1.0</td>\n",
       "      <td>0.0</td>\n",
       "      <td>184.990324</td>\n",
       "      <td>1.0</td>\n",
       "      <td>12.0</td>\n",
       "      <td>28.602076</td>\n",
       "    </tr>\n",
       "    <tr>\n",
       "      <th>4</th>\n",
       "      <td>0</td>\n",
       "      <td>19300</td>\n",
       "      <td>72752.0</td>\n",
       "      <td>106084.0</td>\n",
       "      <td>11.0</td>\n",
       "      <td>0.0</td>\n",
       "      <td>0.0</td>\n",
       "      <td>193.707100</td>\n",
       "      <td>1.0</td>\n",
       "      <td>13.0</td>\n",
       "      <td>30.686106</td>\n",
       "    </tr>\n",
       "    <tr>\n",
       "      <th>...</th>\n",
       "      <td>...</td>\n",
       "      <td>...</td>\n",
       "      <td>...</td>\n",
       "      <td>...</td>\n",
       "      <td>...</td>\n",
       "      <td>...</td>\n",
       "      <td>...</td>\n",
       "      <td>...</td>\n",
       "      <td>...</td>\n",
       "      <td>...</td>\n",
       "      <td>...</td>\n",
       "    </tr>\n",
       "    <tr>\n",
       "      <th>1849</th>\n",
       "      <td>1</td>\n",
       "      <td>53400</td>\n",
       "      <td>228236.0</td>\n",
       "      <td>305514.0</td>\n",
       "      <td>6.0</td>\n",
       "      <td>0.0</td>\n",
       "      <td>0.0</td>\n",
       "      <td>11.148069</td>\n",
       "      <td>0.0</td>\n",
       "      <td>2.0</td>\n",
       "      <td>34.558417</td>\n",
       "    </tr>\n",
       "    <tr>\n",
       "      <th>1850</th>\n",
       "      <td>1</td>\n",
       "      <td>53600</td>\n",
       "      <td>235895.0</td>\n",
       "      <td>299772.0</td>\n",
       "      <td>5.0</td>\n",
       "      <td>0.0</td>\n",
       "      <td>0.0</td>\n",
       "      <td>112.748282</td>\n",
       "      <td>7.0</td>\n",
       "      <td>22.0</td>\n",
       "      <td>44.945929</td>\n",
       "    </tr>\n",
       "    <tr>\n",
       "      <th>1851</th>\n",
       "      <td>1</td>\n",
       "      <td>53600</td>\n",
       "      <td>208197.0</td>\n",
       "      <td>297280.0</td>\n",
       "      <td>4.0</td>\n",
       "      <td>1.0</td>\n",
       "      <td>1.0</td>\n",
       "      <td>160.485251</td>\n",
       "      <td>2.0</td>\n",
       "      <td>29.0</td>\n",
       "      <td>41.646731</td>\n",
       "    </tr>\n",
       "    <tr>\n",
       "      <th>1852</th>\n",
       "      <td>1</td>\n",
       "      <td>65500</td>\n",
       "      <td>205156.0</td>\n",
       "      <td>290239.0</td>\n",
       "      <td>2.0</td>\n",
       "      <td>0.0</td>\n",
       "      <td>0.0</td>\n",
       "      <td>98.808206</td>\n",
       "      <td>1.0</td>\n",
       "      <td>21.0</td>\n",
       "      <td>144.189001</td>\n",
       "    </tr>\n",
       "    <tr>\n",
       "      <th>1853</th>\n",
       "      <td>1</td>\n",
       "      <td>77400</td>\n",
       "      <td>87651.0</td>\n",
       "      <td>224630.0</td>\n",
       "      <td>9.0</td>\n",
       "      <td>0.0</td>\n",
       "      <td>2.0</td>\n",
       "      <td>73.469630</td>\n",
       "      <td>3.0</td>\n",
       "      <td>13.0</td>\n",
       "      <td>40.929793</td>\n",
       "    </tr>\n",
       "  </tbody>\n",
       "</table>\n",
       "<p>1854 rows × 11 columns</p>\n",
       "</div>"
      ],
      "text/plain": [
       "      TARGET   LOAN   MORTDUE     VALUE   YOJ  DEROG  DELINQ       CLAGE  \\\n",
       "0          0   4700   88026.0  115506.0   6.0    0.0     0.0  182.248332   \n",
       "1          0  19300   39926.0  101208.0   4.0    0.0     0.0  140.051638   \n",
       "2          0   5700   71556.0   79538.0   2.0    0.0     0.0   92.643085   \n",
       "3          0  13000   44875.0   57713.0   0.0    1.0     0.0  184.990324   \n",
       "4          0  19300   72752.0  106084.0  11.0    0.0     0.0  193.707100   \n",
       "...      ...    ...       ...       ...   ...    ...     ...         ...   \n",
       "1849       1  53400  228236.0  305514.0   6.0    0.0     0.0   11.148069   \n",
       "1850       1  53600  235895.0  299772.0   5.0    0.0     0.0  112.748282   \n",
       "1851       1  53600  208197.0  297280.0   4.0    1.0     1.0  160.485251   \n",
       "1852       1  65500  205156.0  290239.0   2.0    0.0     0.0   98.808206   \n",
       "1853       1  77400   87651.0  224630.0   9.0    0.0     2.0   73.469630   \n",
       "\n",
       "      NINQ  CLNO     DEBTINC  \n",
       "0      0.0  27.0   29.209023  \n",
       "1      0.0  14.0   31.545694  \n",
       "2      0.0  15.0   41.210012  \n",
       "3      1.0  12.0   28.602076  \n",
       "4      1.0  13.0   30.686106  \n",
       "...    ...   ...         ...  \n",
       "1849   0.0   2.0   34.558417  \n",
       "1850   7.0  22.0   44.945929  \n",
       "1851   2.0  29.0   41.646731  \n",
       "1852   1.0  21.0  144.189001  \n",
       "1853   3.0  13.0   40.929793  \n",
       "\n",
       "[1854 rows x 11 columns]"
      ]
     },
     "execution_count": 7,
     "metadata": {},
     "output_type": "execute_result"
    }
   ],
   "source": [
    "dataset"
   ]
  },
  {
   "cell_type": "code",
   "execution_count": 9,
   "metadata": {},
   "outputs": [
    {
     "data": {
      "text/plain": [
       "0    0.8294\n",
       "1    0.1706\n",
       "Name: TARGET, dtype: float64"
      ]
     },
     "execution_count": 9,
     "metadata": {},
     "output_type": "execute_result"
    }
   ],
   "source": [
    "y_train.value_counts().div(y_train.shape[0])"
   ]
  },
  {
   "cell_type": "markdown",
   "metadata": {},
   "source": [
    "## Ejercicio 2: Predicción con Modelos Lineales\n",
    "\n",
    "En este ejercicio se entrenarán modelos lineales de clasificación para predecir la variable objetivo.\n",
    "\n",
    "Para ello, deberán utilizar la clase SGDClassifier de scikit-learn.\n",
    "\n",
    "Documentación:\n",
    "- https://scikit-learn.org/stable/modules/sgd.html\n",
    "- https://scikit-learn.org/stable/modules/generated/sklearn.linear_model.SGDClassifier.html\n"
   ]
  },
  {
   "cell_type": "markdown",
   "metadata": {},
   "source": [
    "### Ejercicio 2.1: SGDClassifier con hiperparámetros por defecto\n",
    "\n",
    "Entrenar y evaluar el clasificador SGDClassifier usando los valores por omisión de scikit-learn para todos los parámetros. Únicamente **fijar la semilla aleatoria** para hacer repetible el experimento.\n",
    "\n",
    "Evaluar sobre el conjunto de **entrenamiento** y sobre el conjunto de **evaluación**, reportando:\n",
    "- Accuracy\n",
    "- Precision\n",
    "- Recall\n",
    "- F1\n",
    "- matriz de confusión"
   ]
  },
  {
   "cell_type": "code",
   "execution_count": 10,
   "metadata": {},
   "outputs": [],
   "source": [
    "from sklearn.linear_model import SGDClassifier\n",
    "from sklearn.pipeline import Pipeline\n",
    "from sklearn.preprocessing import StandardScaler, MinMaxScaler\n",
    "from sklearn.metrics import confusion_matrix, classification_report, accuracy_score"
   ]
  },
  {
   "cell_type": "code",
   "execution_count": null,
   "metadata": {},
   "outputs": [],
   "source": [
    "\n"
   ]
  },
  {
   "cell_type": "code",
   "execution_count": 11,
   "metadata": {},
   "outputs": [],
   "source": [
    "rnd_st = 4253143"
   ]
  },
  {
   "cell_type": "code",
   "execution_count": 12,
   "metadata": {},
   "outputs": [],
   "source": [
    "scaler = StandardScaler()\n",
    "sgd_cls = SGDClassifier(random_state=rnd_st)\n",
    "pipe_cls = Pipeline(steps=[(\"std_scaler\", StandardScaler()),\n",
    "                           (\"sgd\", sgd_cls),\n",
    "                          ])"
   ]
  },
  {
   "cell_type": "code",
   "execution_count": 13,
   "metadata": {},
   "outputs": [
    {
     "data": {
      "text/plain": [
       "Pipeline(memory=None,\n",
       "         steps=[('std_scaler',\n",
       "                 StandardScaler(copy=True, with_mean=True, with_std=True)),\n",
       "                ('sgd',\n",
       "                 SGDClassifier(alpha=0.0001, average=False, class_weight=None,\n",
       "                               early_stopping=False, epsilon=0.1, eta0=0.0,\n",
       "                               fit_intercept=True, l1_ratio=0.15,\n",
       "                               learning_rate='optimal', loss='hinge',\n",
       "                               max_iter=1000, n_iter_no_change=5, n_jobs=None,\n",
       "                               penalty='l2', power_t=0.5, random_state=4253143,\n",
       "                               shuffle=True, tol=0.001, validation_fraction=0.1,\n",
       "                               verbose=0, warm_start=False))],\n",
       "         verbose=False)"
      ]
     },
     "execution_count": 13,
     "metadata": {},
     "output_type": "execute_result"
    }
   ],
   "source": [
    "pipe_cls.fit(X_train,y_train)"
   ]
  },
  {
   "cell_type": "markdown",
   "metadata": {},
   "source": [
    "Reporte de los datos de entrenamiento"
   ]
  },
  {
   "cell_type": "code",
   "execution_count": 14,
   "metadata": {},
   "outputs": [],
   "source": [
    "def print_classification_report(y_real, y_pred):\n",
    "    print(f\"Accuracy {accuracy_score(y_real, y_pred)}\")\n",
    "    print(\"-\"*100)\n",
    "    print(classification_report(y_real, y_pred))\n",
    "    sns.heatmap(confusion_matrix(y_real, y_pred), \n",
    "                xticklabels=[0, 1],\n",
    "                yticklabels=[0, 1],\n",
    "                cmap=\"jet\",\n",
    "                annot=True,\n",
    "               )\n",
    "    plt.xlabel(\"Predicted Class\")\n",
    "    plt.ylabel(\"Real Class\")\n",
    "    "
   ]
  },
  {
   "cell_type": "markdown",
   "metadata": {},
   "source": [
    "#### Metricas Entrenamiento"
   ]
  },
  {
   "cell_type": "code",
   "execution_count": 15,
   "metadata": {},
   "outputs": [
    {
     "name": "stdout",
     "output_type": "stream",
     "text": [
      "Accuracy 0.8246797033041133\n",
      "----------------------------------------------------------------------------------------------------\n",
      "              precision    recall  f1-score   support\n",
      "\n",
      "           0       0.86      0.94      0.90      1230\n",
      "           1       0.48      0.28      0.35       253\n",
      "\n",
      "    accuracy                           0.82      1483\n",
      "   macro avg       0.67      0.61      0.63      1483\n",
      "weighted avg       0.80      0.82      0.81      1483\n",
      "\n"
     ]
    },
    {
     "data": {
      "image/png": "[encoded data removed]",
      "text/plain": [
       "<Figure size 432x288 with 2 Axes>"
      ]
     },
     "metadata": {
      "needs_background": "light"
     },
     "output_type": "display_data"
    }
   ],
   "source": [
    "y_pred_train = pipe_cls.predict(X_train)\n",
    "print_classification_report(y_train, y_pred_train)"
   ]
  },
  {
   "cell_type": "code",
   "execution_count": 16,
   "metadata": {},
   "outputs": [
    {
     "data": {
      "text/plain": [
       "(149, 253)"
      ]
     },
     "execution_count": 16,
     "metadata": {},
     "output_type": "execute_result"
    }
   ],
   "source": [
    "sum(y_pred_train), sum(y_train)"
   ]
  },
  {
   "cell_type": "markdown",
   "metadata": {},
   "source": [
    "Tengo muchas calsificaciones False Positive. "
   ]
  },
  {
   "cell_type": "markdown",
   "metadata": {},
   "source": [
    "#### Metricas Validacion"
   ]
  },
  {
   "cell_type": "markdown",
   "metadata": {},
   "source": [
    "Reporte de los datos de evaluacion"
   ]
  },
  {
   "cell_type": "code",
   "execution_count": 17,
   "metadata": {},
   "outputs": [
    {
     "name": "stdout",
     "output_type": "stream",
     "text": [
      "Accuracy 0.8436657681940701\n",
      "----------------------------------------------------------------------------------------------------\n",
      "              precision    recall  f1-score   support\n",
      "\n",
      "           0       0.88      0.95      0.91       315\n",
      "           1       0.47      0.25      0.33        56\n",
      "\n",
      "    accuracy                           0.84       371\n",
      "   macro avg       0.67      0.60      0.62       371\n",
      "weighted avg       0.81      0.84      0.82       371\n",
      "\n"
     ]
    },
    {
     "data": {
      "image/png": "[encoded data removed]",
      "text/plain": [
       "<Figure size 432x288 with 2 Axes>"
      ]
     },
     "metadata": {
      "needs_background": "light"
     },
     "output_type": "display_data"
    }
   ],
   "source": [
    "y_pred_test = pipe_cls.predict(X_test)\n",
    "print_classification_report(y_test, y_pred_test)\n"
   ]
  },
  {
   "cell_type": "markdown",
   "metadata": {},
   "source": [
    "Vemos como el clasificador esta prediciendo todas las clasificaciones iguales. Tranquilamente podríamos usar un rpedictor dummy que nos diga lo mismo y obtendriamos el mismo accuracy.\n",
    "\n",
    "Esto se debe en parte a que estamos usando como **scoring** el **accuracy**. Podríamos cambiar para usar el **recall**"
   ]
  },
  {
   "cell_type": "markdown",
   "metadata": {},
   "source": [
    "### Ejercicio 2.2: Ajuste de Hiperparámetros\n",
    "\n",
    "Seleccionar valores para los hiperparámetros principales del SGDClassifier. Como mínimo, probar diferentes funciones de loss, tasas de entrenamiento y tasas de regularización.\n",
    "\n",
    "Para ello, usar grid-search y 5-fold cross-validation sobre el conjunto de entrenamiento para explorar muchas combinaciones posibles de valores.\n",
    "\n",
    "Reportar accuracy promedio y varianza para todas las configuraciones.\n",
    "\n",
    "Para la mejor configuración encontrada, evaluar sobre el conjunto de **entrenamiento** y sobre el conjunto de **evaluación**, reportando:\n",
    "- Accuracy\n",
    "- Precision\n",
    "- Recall\n",
    "- F1\n",
    "- matriz de confusión\n",
    "\n",
    "Documentación:\n",
    "- https://scikit-learn.org/stable/modules/grid_search.html\n",
    "- https://scikit-learn.org/stable/modules/generated/sklearn.model_selection.GridSearchCV.html"
   ]
  },
  {
   "cell_type": "code",
   "execution_count": 18,
   "metadata": {},
   "outputs": [],
   "source": [
    "from sklearn.model_selection import GridSearchCV"
   ]
  },
  {
   "cell_type": "code",
   "execution_count": 19,
   "metadata": {},
   "outputs": [],
   "source": [
    "param_grid = {\n",
    "    \"sgd__loss\": ['hinge', \"perceptron\", \"log\"], \n",
    "    \"sgd__penalty\":['l2', \"l1\", \"elasticnet\", None],\n",
    "    \"sgd__alpha\": [1e-5, 1e-4, 1e-3, 1e-2],\n",
    "    \"sgd__l1_ratio\": [0.15, 0.5, 0.95]\n",
    "    }\n",
    "grid_sgd = GridSearchCV(pipe_cls, param_grid=param_grid, cv=5, scoring=\"accuracy\")"
   ]
  },
  {
   "cell_type": "code",
   "execution_count": 20,
   "metadata": {},
   "outputs": [
    {
     "data": {
      "text/plain": [
       "GridSearchCV(cv=5, error_score=nan,\n",
       "             estimator=Pipeline(memory=None,\n",
       "                                steps=[('std_scaler',\n",
       "                                        StandardScaler(copy=True,\n",
       "                                                       with_mean=True,\n",
       "                                                       with_std=True)),\n",
       "                                       ('sgd',\n",
       "                                        SGDClassifier(alpha=0.0001,\n",
       "                                                      average=False,\n",
       "                                                      class_weight=None,\n",
       "                                                      early_stopping=False,\n",
       "                                                      epsilon=0.1, eta0=0.0,\n",
       "                                                      fit_intercept=True,\n",
       "                                                      l1_ratio=0.15,\n",
       "                                                      learning_rate='optimal',\n",
       "                                                      loss='hinge',\n",
       "                                                      max_iter=1000,\n",
       "                                                      n_iter_no_change...\n",
       "                                                      validation_fraction=0.1,\n",
       "                                                      verbose=0,\n",
       "                                                      warm_start=False))],\n",
       "                                verbose=False),\n",
       "             iid='deprecated', n_jobs=None,\n",
       "             param_grid={'sgd__alpha': [1e-05, 0.0001, 0.001, 0.01],\n",
       "                         'sgd__l1_ratio': [0.15, 0.5, 0.95],\n",
       "                         'sgd__loss': ['hinge', 'perceptron', 'log'],\n",
       "                         'sgd__penalty': ['l2', 'l1', 'elasticnet', None]},\n",
       "             pre_dispatch='2*n_jobs', refit=True, return_train_score=False,\n",
       "             scoring='accuracy', verbose=0)"
      ]
     },
     "execution_count": 20,
     "metadata": {},
     "output_type": "execute_result"
    }
   ],
   "source": [
    "grid_sgd.fit(X_train,y_train)"
   ]
  },
  {
   "cell_type": "code",
   "execution_count": 21,
   "metadata": {},
   "outputs": [
    {
     "name": "stdout",
     "output_type": "stream",
     "text": [
      "0.872 (+/-0.016) para {'sgd__alpha': 0.01, 'sgd__l1_ratio': 0.15, 'sgd__loss': 'hinge', 'sgd__penalty': None}\n",
      "0.872 (+/-0.016) para {'sgd__alpha': 0.01, 'sgd__l1_ratio': 0.5, 'sgd__loss': 'hinge', 'sgd__penalty': None}\n",
      "0.872 (+/-0.016) para {'sgd__alpha': 0.01, 'sgd__l1_ratio': 0.95, 'sgd__loss': 'hinge', 'sgd__penalty': None}\n",
      "0.871 (+/-0.022) para {'sgd__alpha': 0.01, 'sgd__l1_ratio': 0.15, 'sgd__loss': 'log', 'sgd__penalty': None}\n",
      "0.871 (+/-0.022) para {'sgd__alpha': 0.01, 'sgd__l1_ratio': 0.5, 'sgd__loss': 'log', 'sgd__penalty': None}\n",
      "0.871 (+/-0.022) para {'sgd__alpha': 0.01, 'sgd__l1_ratio': 0.95, 'sgd__loss': 'log', 'sgd__penalty': None}\n",
      "0.869 (+/-0.022) para {'sgd__alpha': 0.001, 'sgd__l1_ratio': 0.5, 'sgd__loss': 'hinge', 'sgd__penalty': 'elasticnet'}\n",
      "0.868 (+/-0.020) para {'sgd__alpha': 0.01, 'sgd__l1_ratio': 0.15, 'sgd__loss': 'log', 'sgd__penalty': 'l2'}\n",
      "0.868 (+/-0.020) para {'sgd__alpha': 0.01, 'sgd__l1_ratio': 0.5, 'sgd__loss': 'log', 'sgd__penalty': 'l2'}\n",
      "0.868 (+/-0.020) para {'sgd__alpha': 0.01, 'sgd__l1_ratio': 0.95, 'sgd__loss': 'log', 'sgd__penalty': 'l2'}\n",
      "0.868 (+/-0.020) para {'sgd__alpha': 0.01, 'sgd__l1_ratio': 0.15, 'sgd__loss': 'log', 'sgd__penalty': 'l1'}\n",
      "0.868 (+/-0.020) para {'sgd__alpha': 0.01, 'sgd__l1_ratio': 0.5, 'sgd__loss': 'log', 'sgd__penalty': 'l1'}\n",
      "0.868 (+/-0.020) para {'sgd__alpha': 0.01, 'sgd__l1_ratio': 0.95, 'sgd__loss': 'log', 'sgd__penalty': 'l1'}\n",
      "0.868 (+/-0.020) para {'sgd__alpha': 0.01, 'sgd__l1_ratio': 0.95, 'sgd__loss': 'log', 'sgd__penalty': 'elasticnet'}\n",
      "0.867 (+/-0.023) para {'sgd__alpha': 0.01, 'sgd__l1_ratio': 0.15, 'sgd__loss': 'log', 'sgd__penalty': 'elasticnet'}\n",
      "0.867 (+/-0.020) para {'sgd__alpha': 0.01, 'sgd__l1_ratio': 0.15, 'sgd__loss': 'hinge', 'sgd__penalty': 'l2'}\n",
      "0.867 (+/-0.020) para {'sgd__alpha': 0.01, 'sgd__l1_ratio': 0.5, 'sgd__loss': 'hinge', 'sgd__penalty': 'l2'}\n",
      "0.867 (+/-0.020) para {'sgd__alpha': 0.01, 'sgd__l1_ratio': 0.95, 'sgd__loss': 'hinge', 'sgd__penalty': 'l2'}\n",
      "0.867 (+/-0.032) para {'sgd__alpha': 0.001, 'sgd__l1_ratio': 0.15, 'sgd__loss': 'log', 'sgd__penalty': 'l2'}\n",
      "0.867 (+/-0.032) para {'sgd__alpha': 0.001, 'sgd__l1_ratio': 0.5, 'sgd__loss': 'log', 'sgd__penalty': 'l2'}\n",
      "0.867 (+/-0.032) para {'sgd__alpha': 0.001, 'sgd__l1_ratio': 0.95, 'sgd__loss': 'log', 'sgd__penalty': 'l2'}\n",
      "0.867 (+/-0.020) para {'sgd__alpha': 0.01, 'sgd__l1_ratio': 0.5, 'sgd__loss': 'log', 'sgd__penalty': 'elasticnet'}\n",
      "0.866 (+/-0.021) para {'sgd__alpha': 0.01, 'sgd__l1_ratio': 0.15, 'sgd__loss': 'hinge', 'sgd__penalty': 'elasticnet'}\n",
      "0.866 (+/-0.020) para {'sgd__alpha': 0.01, 'sgd__l1_ratio': 0.5, 'sgd__loss': 'hinge', 'sgd__penalty': 'elasticnet'}\n",
      "0.866 (+/-0.017) para {'sgd__alpha': 0.001, 'sgd__l1_ratio': 0.95, 'sgd__loss': 'log', 'sgd__penalty': 'elasticnet'}\n",
      "0.865 (+/-0.030) para {'sgd__alpha': 0.001, 'sgd__l1_ratio': 0.15, 'sgd__loss': 'log', 'sgd__penalty': None}\n",
      "0.865 (+/-0.030) para {'sgd__alpha': 0.001, 'sgd__l1_ratio': 0.5, 'sgd__loss': 'log', 'sgd__penalty': None}\n",
      "0.865 (+/-0.030) para {'sgd__alpha': 0.001, 'sgd__l1_ratio': 0.95, 'sgd__loss': 'log', 'sgd__penalty': None}\n",
      "0.865 (+/-0.023) para {'sgd__alpha': 0.001, 'sgd__l1_ratio': 0.95, 'sgd__loss': 'hinge', 'sgd__penalty': 'elasticnet'}\n",
      "0.864 (+/-0.019) para {'sgd__alpha': 0.001, 'sgd__l1_ratio': 0.15, 'sgd__loss': 'log', 'sgd__penalty': 'elasticnet'}\n",
      "0.864 (+/-0.017) para {'sgd__alpha': 0.01, 'sgd__l1_ratio': 0.15, 'sgd__loss': 'hinge', 'sgd__penalty': 'l1'}\n",
      "0.864 (+/-0.017) para {'sgd__alpha': 0.01, 'sgd__l1_ratio': 0.5, 'sgd__loss': 'hinge', 'sgd__penalty': 'l1'}\n",
      "0.864 (+/-0.017) para {'sgd__alpha': 0.01, 'sgd__l1_ratio': 0.95, 'sgd__loss': 'hinge', 'sgd__penalty': 'l1'}\n",
      "0.864 (+/-0.032) para {'sgd__alpha': 0.001, 'sgd__l1_ratio': 0.15, 'sgd__loss': 'hinge', 'sgd__penalty': 'l2'}\n",
      "0.864 (+/-0.032) para {'sgd__alpha': 0.001, 'sgd__l1_ratio': 0.5, 'sgd__loss': 'hinge', 'sgd__penalty': 'l2'}\n",
      "0.864 (+/-0.032) para {'sgd__alpha': 0.001, 'sgd__l1_ratio': 0.95, 'sgd__loss': 'hinge', 'sgd__penalty': 'l2'}\n",
      "0.864 (+/-0.025) para {'sgd__alpha': 0.001, 'sgd__l1_ratio': 0.15, 'sgd__loss': 'hinge', 'sgd__penalty': None}\n",
      "0.864 (+/-0.025) para {'sgd__alpha': 0.001, 'sgd__l1_ratio': 0.5, 'sgd__loss': 'hinge', 'sgd__penalty': None}\n",
      "0.864 (+/-0.025) para {'sgd__alpha': 0.001, 'sgd__l1_ratio': 0.95, 'sgd__loss': 'hinge', 'sgd__penalty': None}\n",
      "0.864 (+/-0.023) para {'sgd__alpha': 0.01, 'sgd__l1_ratio': 0.95, 'sgd__loss': 'hinge', 'sgd__penalty': 'elasticnet'}\n",
      "0.863 (+/-0.015) para {'sgd__alpha': 0.001, 'sgd__l1_ratio': 0.15, 'sgd__loss': 'log', 'sgd__penalty': 'l1'}\n",
      "0.863 (+/-0.015) para {'sgd__alpha': 0.001, 'sgd__l1_ratio': 0.5, 'sgd__loss': 'log', 'sgd__penalty': 'l1'}\n",
      "0.863 (+/-0.015) para {'sgd__alpha': 0.001, 'sgd__l1_ratio': 0.95, 'sgd__loss': 'log', 'sgd__penalty': 'l1'}\n",
      "0.863 (+/-0.032) para {'sgd__alpha': 0.001, 'sgd__l1_ratio': 0.15, 'sgd__loss': 'hinge', 'sgd__penalty': 'l1'}\n",
      "0.863 (+/-0.032) para {'sgd__alpha': 0.001, 'sgd__l1_ratio': 0.5, 'sgd__loss': 'hinge', 'sgd__penalty': 'l1'}\n",
      "0.863 (+/-0.032) para {'sgd__alpha': 0.001, 'sgd__l1_ratio': 0.95, 'sgd__loss': 'hinge', 'sgd__penalty': 'l1'}\n",
      "0.862 (+/-0.017) para {'sgd__alpha': 0.001, 'sgd__l1_ratio': 0.5, 'sgd__loss': 'log', 'sgd__penalty': 'elasticnet'}\n",
      "0.859 (+/-0.024) para {'sgd__alpha': 0.001, 'sgd__l1_ratio': 0.15, 'sgd__loss': 'hinge', 'sgd__penalty': 'elasticnet'}\n",
      "0.857 (+/-0.033) para {'sgd__alpha': 0.0001, 'sgd__l1_ratio': 0.15, 'sgd__loss': 'hinge', 'sgd__penalty': 'elasticnet'}\n",
      "0.854 (+/-0.051) para {'sgd__alpha': 0.0001, 'sgd__l1_ratio': 0.15, 'sgd__loss': 'log', 'sgd__penalty': 'elasticnet'}\n",
      "0.853 (+/-0.024) para {'sgd__alpha': 0.0001, 'sgd__l1_ratio': 0.15, 'sgd__loss': 'hinge', 'sgd__penalty': 'l1'}\n",
      "0.853 (+/-0.024) para {'sgd__alpha': 0.0001, 'sgd__l1_ratio': 0.5, 'sgd__loss': 'hinge', 'sgd__penalty': 'l1'}\n",
      "0.853 (+/-0.024) para {'sgd__alpha': 0.0001, 'sgd__l1_ratio': 0.95, 'sgd__loss': 'hinge', 'sgd__penalty': 'l1'}\n",
      "0.850 (+/-0.053) para {'sgd__alpha': 0.0001, 'sgd__l1_ratio': 0.15, 'sgd__loss': 'hinge', 'sgd__penalty': None}\n",
      "0.850 (+/-0.053) para {'sgd__alpha': 0.0001, 'sgd__l1_ratio': 0.5, 'sgd__loss': 'hinge', 'sgd__penalty': None}\n",
      "0.850 (+/-0.053) para {'sgd__alpha': 0.0001, 'sgd__l1_ratio': 0.95, 'sgd__loss': 'hinge', 'sgd__penalty': None}\n",
      "0.850 (+/-0.030) para {'sgd__alpha': 0.0001, 'sgd__l1_ratio': 0.15, 'sgd__loss': 'perceptron', 'sgd__penalty': 'l1'}\n",
      "0.850 (+/-0.030) para {'sgd__alpha': 0.0001, 'sgd__l1_ratio': 0.5, 'sgd__loss': 'perceptron', 'sgd__penalty': 'l1'}\n",
      "0.850 (+/-0.030) para {'sgd__alpha': 0.0001, 'sgd__l1_ratio': 0.95, 'sgd__loss': 'perceptron', 'sgd__penalty': 'l1'}\n",
      "0.846 (+/-0.033) para {'sgd__alpha': 0.0001, 'sgd__l1_ratio': 0.15, 'sgd__loss': 'log', 'sgd__penalty': 'l1'}\n",
      "0.846 (+/-0.033) para {'sgd__alpha': 0.0001, 'sgd__l1_ratio': 0.5, 'sgd__loss': 'log', 'sgd__penalty': 'l1'}\n",
      "0.846 (+/-0.033) para {'sgd__alpha': 0.0001, 'sgd__l1_ratio': 0.95, 'sgd__loss': 'log', 'sgd__penalty': 'l1'}\n",
      "0.846 (+/-0.033) para {'sgd__alpha': 0.0001, 'sgd__l1_ratio': 0.95, 'sgd__loss': 'log', 'sgd__penalty': 'elasticnet'}\n",
      "0.845 (+/-0.017) para {'sgd__alpha': 1e-05, 'sgd__l1_ratio': 0.95, 'sgd__loss': 'hinge', 'sgd__penalty': 'elasticnet'}\n",
      "0.844 (+/-0.035) para {'sgd__alpha': 0.001, 'sgd__l1_ratio': 0.95, 'sgd__loss': 'perceptron', 'sgd__penalty': 'elasticnet'}\n",
      "0.844 (+/-0.051) para {'sgd__alpha': 0.0001, 'sgd__l1_ratio': 0.95, 'sgd__loss': 'hinge', 'sgd__penalty': 'elasticnet'}\n",
      "0.842 (+/-0.032) para {'sgd__alpha': 0.0001, 'sgd__l1_ratio': 0.15, 'sgd__loss': 'hinge', 'sgd__penalty': 'l2'}\n",
      "0.842 (+/-0.032) para {'sgd__alpha': 0.0001, 'sgd__l1_ratio': 0.5, 'sgd__loss': 'hinge', 'sgd__penalty': 'l2'}\n",
      "0.842 (+/-0.032) para {'sgd__alpha': 0.0001, 'sgd__l1_ratio': 0.95, 'sgd__loss': 'hinge', 'sgd__penalty': 'l2'}\n",
      "0.838 (+/-0.042) para {'sgd__alpha': 1e-05, 'sgd__l1_ratio': 0.15, 'sgd__loss': 'hinge', 'sgd__penalty': 'elasticnet'}\n",
      "0.837 (+/-0.055) para {'sgd__alpha': 0.0001, 'sgd__l1_ratio': 0.15, 'sgd__loss': 'perceptron', 'sgd__penalty': 'l2'}\n",
      "0.837 (+/-0.055) para {'sgd__alpha': 0.0001, 'sgd__l1_ratio': 0.5, 'sgd__loss': 'perceptron', 'sgd__penalty': 'l2'}\n",
      "0.837 (+/-0.055) para {'sgd__alpha': 0.0001, 'sgd__l1_ratio': 0.95, 'sgd__loss': 'perceptron', 'sgd__penalty': 'l2'}\n",
      "0.835 (+/-0.032) para {'sgd__alpha': 0.0001, 'sgd__l1_ratio': 0.5, 'sgd__loss': 'log', 'sgd__penalty': 'elasticnet'}\n",
      "0.835 (+/-0.060) para {'sgd__alpha': 0.001, 'sgd__l1_ratio': 0.15, 'sgd__loss': 'perceptron', 'sgd__penalty': 'l1'}\n",
      "0.835 (+/-0.060) para {'sgd__alpha': 0.001, 'sgd__l1_ratio': 0.5, 'sgd__loss': 'perceptron', 'sgd__penalty': 'l1'}\n",
      "0.835 (+/-0.060) para {'sgd__alpha': 0.001, 'sgd__l1_ratio': 0.95, 'sgd__loss': 'perceptron', 'sgd__penalty': 'l1'}\n",
      "0.831 (+/-0.035) para {'sgd__alpha': 1e-05, 'sgd__l1_ratio': 0.15, 'sgd__loss': 'hinge', 'sgd__penalty': None}\n",
      "0.831 (+/-0.035) para {'sgd__alpha': 1e-05, 'sgd__l1_ratio': 0.5, 'sgd__loss': 'hinge', 'sgd__penalty': None}\n",
      "0.831 (+/-0.035) para {'sgd__alpha': 1e-05, 'sgd__l1_ratio': 0.95, 'sgd__loss': 'hinge', 'sgd__penalty': None}\n",
      "0.831 (+/-0.035) para {'sgd__alpha': 1e-05, 'sgd__l1_ratio': 0.15, 'sgd__loss': 'perceptron', 'sgd__penalty': 'elasticnet'}\n",
      "0.830 (+/-0.050) para {'sgd__alpha': 0.0001, 'sgd__l1_ratio': 0.15, 'sgd__loss': 'log', 'sgd__penalty': 'l2'}\n",
      "0.830 (+/-0.050) para {'sgd__alpha': 0.0001, 'sgd__l1_ratio': 0.15, 'sgd__loss': 'log', 'sgd__penalty': None}\n",
      "0.830 (+/-0.050) para {'sgd__alpha': 0.0001, 'sgd__l1_ratio': 0.5, 'sgd__loss': 'log', 'sgd__penalty': 'l2'}\n",
      "0.830 (+/-0.050) para {'sgd__alpha': 0.0001, 'sgd__l1_ratio': 0.5, 'sgd__loss': 'log', 'sgd__penalty': None}\n",
      "0.830 (+/-0.050) para {'sgd__alpha': 0.0001, 'sgd__l1_ratio': 0.95, 'sgd__loss': 'log', 'sgd__penalty': 'l2'}\n",
      "0.830 (+/-0.050) para {'sgd__alpha': 0.0001, 'sgd__l1_ratio': 0.95, 'sgd__loss': 'log', 'sgd__penalty': None}\n",
      "0.829 (+/-0.042) para {'sgd__alpha': 1e-05, 'sgd__l1_ratio': 0.15, 'sgd__loss': 'log', 'sgd__penalty': 'elasticnet'}\n",
      "0.829 (+/-0.054) para {'sgd__alpha': 0.001, 'sgd__l1_ratio': 0.5, 'sgd__loss': 'perceptron', 'sgd__penalty': 'elasticnet'}\n",
      "0.829 (+/-0.049) para {'sgd__alpha': 1e-05, 'sgd__l1_ratio': 0.15, 'sgd__loss': 'log', 'sgd__penalty': 'l2'}\n",
      "0.829 (+/-0.049) para {'sgd__alpha': 1e-05, 'sgd__l1_ratio': 0.5, 'sgd__loss': 'log', 'sgd__penalty': 'l2'}\n",
      "0.829 (+/-0.049) para {'sgd__alpha': 1e-05, 'sgd__l1_ratio': 0.95, 'sgd__loss': 'log', 'sgd__penalty': 'l2'}\n",
      "0.827 (+/-0.076) para {'sgd__alpha': 0.001, 'sgd__l1_ratio': 0.15, 'sgd__loss': 'perceptron', 'sgd__penalty': 'l2'}\n",
      "0.827 (+/-0.076) para {'sgd__alpha': 0.001, 'sgd__l1_ratio': 0.5, 'sgd__loss': 'perceptron', 'sgd__penalty': 'l2'}\n",
      "0.827 (+/-0.076) para {'sgd__alpha': 0.001, 'sgd__l1_ratio': 0.95, 'sgd__loss': 'perceptron', 'sgd__penalty': 'l2'}\n",
      "0.827 (+/-0.064) para {'sgd__alpha': 1e-05, 'sgd__l1_ratio': 0.15, 'sgd__loss': 'log', 'sgd__penalty': 'l1'}\n",
      "0.827 (+/-0.064) para {'sgd__alpha': 1e-05, 'sgd__l1_ratio': 0.5, 'sgd__loss': 'log', 'sgd__penalty': 'l1'}\n",
      "0.827 (+/-0.064) para {'sgd__alpha': 1e-05, 'sgd__l1_ratio': 0.95, 'sgd__loss': 'log', 'sgd__penalty': 'l1'}\n",
      "0.827 (+/-0.031) para {'sgd__alpha': 0.0001, 'sgd__l1_ratio': 0.5, 'sgd__loss': 'hinge', 'sgd__penalty': 'elasticnet'}\n",
      "0.826 (+/-0.071) para {'sgd__alpha': 1e-05, 'sgd__l1_ratio': 0.95, 'sgd__loss': 'perceptron', 'sgd__penalty': 'elasticnet'}\n",
      "0.819 (+/-0.040) para {'sgd__alpha': 0.0001, 'sgd__l1_ratio': 0.95, 'sgd__loss': 'perceptron', 'sgd__penalty': 'elasticnet'}\n",
      "0.819 (+/-0.055) para {'sgd__alpha': 1e-05, 'sgd__l1_ratio': 0.95, 'sgd__loss': 'log', 'sgd__penalty': 'elasticnet'}\n",
      "0.814 (+/-0.052) para {'sgd__alpha': 1e-05, 'sgd__l1_ratio': 0.15, 'sgd__loss': 'hinge', 'sgd__penalty': 'l1'}\n",
      "0.814 (+/-0.052) para {'sgd__alpha': 1e-05, 'sgd__l1_ratio': 0.5, 'sgd__loss': 'hinge', 'sgd__penalty': 'l1'}\n",
      "0.814 (+/-0.052) para {'sgd__alpha': 1e-05, 'sgd__l1_ratio': 0.95, 'sgd__loss': 'hinge', 'sgd__penalty': 'l1'}\n",
      "0.811 (+/-0.038) para {'sgd__alpha': 1e-05, 'sgd__l1_ratio': 0.15, 'sgd__loss': 'log', 'sgd__penalty': None}\n",
      "0.811 (+/-0.038) para {'sgd__alpha': 1e-05, 'sgd__l1_ratio': 0.5, 'sgd__loss': 'log', 'sgd__penalty': None}\n",
      "0.811 (+/-0.038) para {'sgd__alpha': 1e-05, 'sgd__l1_ratio': 0.95, 'sgd__loss': 'log', 'sgd__penalty': None}\n",
      "0.810 (+/-0.075) para {'sgd__alpha': 0.01, 'sgd__l1_ratio': 0.95, 'sgd__loss': 'perceptron', 'sgd__penalty': 'elasticnet'}\n",
      "0.808 (+/-0.068) para {'sgd__alpha': 1e-05, 'sgd__l1_ratio': 0.15, 'sgd__loss': 'perceptron', 'sgd__penalty': None}\n",
      "0.808 (+/-0.068) para {'sgd__alpha': 1e-05, 'sgd__l1_ratio': 0.5, 'sgd__loss': 'perceptron', 'sgd__penalty': None}\n",
      "0.808 (+/-0.068) para {'sgd__alpha': 1e-05, 'sgd__l1_ratio': 0.95, 'sgd__loss': 'perceptron', 'sgd__penalty': None}\n",
      "0.807 (+/-0.074) para {'sgd__alpha': 0.0001, 'sgd__l1_ratio': 0.15, 'sgd__loss': 'perceptron', 'sgd__penalty': None}\n",
      "0.807 (+/-0.074) para {'sgd__alpha': 0.0001, 'sgd__l1_ratio': 0.5, 'sgd__loss': 'perceptron', 'sgd__penalty': None}\n",
      "0.807 (+/-0.074) para {'sgd__alpha': 0.0001, 'sgd__l1_ratio': 0.95, 'sgd__loss': 'perceptron', 'sgd__penalty': None}\n",
      "0.804 (+/-0.052) para {'sgd__alpha': 0.0001, 'sgd__l1_ratio': 0.5, 'sgd__loss': 'perceptron', 'sgd__penalty': 'elasticnet'}\n",
      "0.804 (+/-0.096) para {'sgd__alpha': 1e-05, 'sgd__l1_ratio': 0.5, 'sgd__loss': 'log', 'sgd__penalty': 'elasticnet'}\n",
      "0.800 (+/-0.170) para {'sgd__alpha': 0.0001, 'sgd__l1_ratio': 0.15, 'sgd__loss': 'perceptron', 'sgd__penalty': 'elasticnet'}\n",
      "0.797 (+/-0.078) para {'sgd__alpha': 1e-05, 'sgd__l1_ratio': 0.5, 'sgd__loss': 'hinge', 'sgd__penalty': 'elasticnet'}\n",
      "0.793 (+/-0.051) para {'sgd__alpha': 0.001, 'sgd__l1_ratio': 0.15, 'sgd__loss': 'perceptron', 'sgd__penalty': 'elasticnet'}\n",
      "0.792 (+/-0.148) para {'sgd__alpha': 1e-05, 'sgd__l1_ratio': 0.15, 'sgd__loss': 'perceptron', 'sgd__penalty': 'l1'}\n",
      "0.792 (+/-0.148) para {'sgd__alpha': 1e-05, 'sgd__l1_ratio': 0.5, 'sgd__loss': 'perceptron', 'sgd__penalty': 'l1'}\n",
      "0.792 (+/-0.148) para {'sgd__alpha': 1e-05, 'sgd__l1_ratio': 0.95, 'sgd__loss': 'perceptron', 'sgd__penalty': 'l1'}\n",
      "0.789 (+/-0.116) para {'sgd__alpha': 1e-05, 'sgd__l1_ratio': 0.15, 'sgd__loss': 'perceptron', 'sgd__penalty': 'l2'}\n",
      "0.789 (+/-0.116) para {'sgd__alpha': 1e-05, 'sgd__l1_ratio': 0.5, 'sgd__loss': 'perceptron', 'sgd__penalty': 'l2'}\n",
      "0.789 (+/-0.116) para {'sgd__alpha': 1e-05, 'sgd__l1_ratio': 0.95, 'sgd__loss': 'perceptron', 'sgd__penalty': 'l2'}\n",
      "0.784 (+/-0.080) para {'sgd__alpha': 1e-05, 'sgd__l1_ratio': 0.15, 'sgd__loss': 'hinge', 'sgd__penalty': 'l2'}\n",
      "0.784 (+/-0.080) para {'sgd__alpha': 1e-05, 'sgd__l1_ratio': 0.5, 'sgd__loss': 'hinge', 'sgd__penalty': 'l2'}\n",
      "0.784 (+/-0.080) para {'sgd__alpha': 1e-05, 'sgd__l1_ratio': 0.95, 'sgd__loss': 'hinge', 'sgd__penalty': 'l2'}\n",
      "0.775 (+/-0.117) para {'sgd__alpha': 0.01, 'sgd__l1_ratio': 0.15, 'sgd__loss': 'perceptron', 'sgd__penalty': 'l1'}\n",
      "0.775 (+/-0.117) para {'sgd__alpha': 0.01, 'sgd__l1_ratio': 0.5, 'sgd__loss': 'perceptron', 'sgd__penalty': 'l1'}\n",
      "0.775 (+/-0.117) para {'sgd__alpha': 0.01, 'sgd__l1_ratio': 0.95, 'sgd__loss': 'perceptron', 'sgd__penalty': 'l1'}\n",
      "0.774 (+/-0.046) para {'sgd__alpha': 0.01, 'sgd__l1_ratio': 0.15, 'sgd__loss': 'perceptron', 'sgd__penalty': 'l2'}\n",
      "0.774 (+/-0.046) para {'sgd__alpha': 0.01, 'sgd__l1_ratio': 0.5, 'sgd__loss': 'perceptron', 'sgd__penalty': 'l2'}\n",
      "0.774 (+/-0.046) para {'sgd__alpha': 0.01, 'sgd__l1_ratio': 0.95, 'sgd__loss': 'perceptron', 'sgd__penalty': 'l2'}\n",
      "0.772 (+/-0.110) para {'sgd__alpha': 0.001, 'sgd__l1_ratio': 0.15, 'sgd__loss': 'perceptron', 'sgd__penalty': None}\n",
      "0.772 (+/-0.110) para {'sgd__alpha': 0.001, 'sgd__l1_ratio': 0.5, 'sgd__loss': 'perceptron', 'sgd__penalty': None}\n",
      "0.772 (+/-0.110) para {'sgd__alpha': 0.001, 'sgd__l1_ratio': 0.95, 'sgd__loss': 'perceptron', 'sgd__penalty': None}\n",
      "0.770 (+/-0.130) para {'sgd__alpha': 1e-05, 'sgd__l1_ratio': 0.5, 'sgd__loss': 'perceptron', 'sgd__penalty': 'elasticnet'}\n",
      "0.761 (+/-0.049) para {'sgd__alpha': 0.01, 'sgd__l1_ratio': 0.15, 'sgd__loss': 'perceptron', 'sgd__penalty': None}\n",
      "0.761 (+/-0.049) para {'sgd__alpha': 0.01, 'sgd__l1_ratio': 0.5, 'sgd__loss': 'perceptron', 'sgd__penalty': None}\n",
      "0.761 (+/-0.049) para {'sgd__alpha': 0.01, 'sgd__l1_ratio': 0.95, 'sgd__loss': 'perceptron', 'sgd__penalty': None}\n",
      "0.746 (+/-0.224) para {'sgd__alpha': 0.01, 'sgd__l1_ratio': 0.15, 'sgd__loss': 'perceptron', 'sgd__penalty': 'elasticnet'}\n",
      "0.721 (+/-0.196) para {'sgd__alpha': 0.01, 'sgd__l1_ratio': 0.5, 'sgd__loss': 'perceptron', 'sgd__penalty': 'elasticnet'}\n",
      "\n"
     ]
    }
   ],
   "source": [
    "means = grid_sgd.cv_results_['mean_test_score']\n",
    "stds = grid_sgd.cv_results_['std_test_score']\n",
    "for mean, std, params in sorted(zip(means, stds, grid_sgd.cv_results_['params']), \n",
    "                                key=lambda data: data[0], reverse=True):\n",
    "    print(\"%0.3f (+/-%0.03f) para %r\" % (mean, std * 2, params))\n",
    "print()"
   ]
  },
  {
   "cell_type": "code",
   "execution_count": 22,
   "metadata": {},
   "outputs": [
    {
     "data": {
      "text/plain": [
       "Pipeline(memory=None,\n",
       "         steps=[('std_scaler',\n",
       "                 StandardScaler(copy=True, with_mean=True, with_std=True)),\n",
       "                ('sgd',\n",
       "                 SGDClassifier(alpha=0.01, average=False, class_weight=None,\n",
       "                               early_stopping=False, epsilon=0.1, eta0=0.0,\n",
       "                               fit_intercept=True, l1_ratio=0.15,\n",
       "                               learning_rate='optimal', loss='hinge',\n",
       "                               max_iter=1000, n_iter_no_change=5, n_jobs=None,\n",
       "                               penalty=None, power_t=0.5, random_state=4253143,\n",
       "                               shuffle=True, tol=0.001, validation_fraction=0.1,\n",
       "                               verbose=0, warm_start=False))],\n",
       "         verbose=False)"
      ]
     },
     "execution_count": 22,
     "metadata": {},
     "output_type": "execute_result"
    }
   ],
   "source": [
    "grid_sgd.best_estimator_"
   ]
  },
  {
   "cell_type": "code",
   "execution_count": 23,
   "metadata": {},
   "outputs": [
    {
     "data": {
      "text/plain": [
       "Pipeline(memory=None,\n",
       "         steps=[('std_scaler',\n",
       "                 StandardScaler(copy=True, with_mean=True, with_std=True)),\n",
       "                ('sgd',\n",
       "                 SGDClassifier(alpha=0.01, average=False, class_weight=None,\n",
       "                               early_stopping=False, epsilon=0.1, eta0=0.0,\n",
       "                               fit_intercept=True, l1_ratio=0.15,\n",
       "                               learning_rate='optimal', loss='hinge',\n",
       "                               max_iter=1000, n_iter_no_change=5, n_jobs=None,\n",
       "                               penalty=None, power_t=0.5, random_state=4253143,\n",
       "                               shuffle=True, tol=0.001, validation_fraction=0.1,\n",
       "                               verbose=0, warm_start=False))],\n",
       "         verbose=False)"
      ]
     },
     "execution_count": 23,
     "metadata": {},
     "output_type": "execute_result"
    }
   ],
   "source": [
    "svg_best = grid_sgd.best_estimator_\n",
    "svg_best.fit(X_train,y_train)"
   ]
  },
  {
   "cell_type": "markdown",
   "metadata": {},
   "source": [
    "#### Metricas Entrenamiento"
   ]
  },
  {
   "cell_type": "code",
   "execution_count": 24,
   "metadata": {},
   "outputs": [
    {
     "name": "stdout",
     "output_type": "stream",
     "text": [
      "Accuracy 0.8712070128118679\n",
      "----------------------------------------------------------------------------------------------------\n",
      "              precision    recall  f1-score   support\n",
      "\n",
      "           0       0.87      1.00      0.93      1230\n",
      "           1       0.92      0.27      0.42       253\n",
      "\n",
      "    accuracy                           0.87      1483\n",
      "   macro avg       0.89      0.63      0.67      1483\n",
      "weighted avg       0.88      0.87      0.84      1483\n",
      "\n"
     ]
    },
    {
     "data": {
      "image/png": "[encoded data removed]",
      "text/plain": [
       "<Figure size 432x288 with 2 Axes>"
      ]
     },
     "metadata": {
      "needs_background": "light"
     },
     "output_type": "display_data"
    }
   ],
   "source": [
    "y_pred_train = svg_best.predict(X_train)\n",
    "print_classification_report(y_train, y_pred_train)"
   ]
  },
  {
   "cell_type": "markdown",
   "metadata": {},
   "source": [
    "#### Metricas Validacion"
   ]
  },
  {
   "cell_type": "code",
   "execution_count": 25,
   "metadata": {},
   "outputs": [
    {
     "name": "stdout",
     "output_type": "stream",
     "text": [
      "Accuracy 0.8840970350404312\n",
      "----------------------------------------------------------------------------------------------------\n",
      "              precision    recall  f1-score   support\n",
      "\n",
      "           0       0.88      0.99      0.94       315\n",
      "           1       0.88      0.27      0.41        56\n",
      "\n",
      "    accuracy                           0.88       371\n",
      "   macro avg       0.88      0.63      0.67       371\n",
      "weighted avg       0.88      0.88      0.86       371\n",
      "\n"
     ]
    },
    {
     "data": {
      "image/png": "[encoded data removed]",
      "text/plain": [
       "<Figure size 432x288 with 2 Axes>"
      ]
     },
     "metadata": {
      "needs_background": "light"
     },
     "output_type": "display_data"
    }
   ],
   "source": [
    "y_pred_test = svg_best.predict(X_test)\n",
    "print_classification_report(y_test, y_pred_test)"
   ]
  },
  {
   "cell_type": "markdown",
   "metadata": {},
   "source": [
    "Vemos que al algoritmo le cuesta distinguir bien los y=1 y clasifica muchas como 0. En general el error de ser 0 y clasificarlo como 1 lo comete poco.\n",
    "\n"
   ]
  },
  {
   "cell_type": "markdown",
   "metadata": {},
   "source": [
    "## Ejercicio 3: Árboles de Decisión\n",
    "\n",
    "En este ejercicio se entrenarán árboles de decisión para predecir la variable objetivo.\n",
    "\n",
    "Para ello, deberán utilizar la clase DecisionTreeClassifier de scikit-learn.\n",
    "\n",
    "Documentación:\n",
    "- https://scikit-learn.org/stable/modules/tree.html\n",
    "  - https://scikit-learn.org/stable/modules/tree.html#tips-on-practical-use\n",
    "- https://scikit-learn.org/stable/modules/generated/sklearn.tree.DecisionTreeClassifier.html\n",
    "- https://scikit-learn.org/stable/auto_examples/tree/plot_unveil_tree_structure.html"
   ]
  },
  {
   "cell_type": "markdown",
   "metadata": {},
   "source": [
    "### Ejercicio 3.1: DecisionTreeClassifier con hiperparámetros por defecto\n",
    "\n",
    "Entrenar y evaluar el clasificador DecisionTreeClassifier usando los valores por omisión de scikit-learn para todos los parámetros. Únicamente **fijar la semilla aleatoria** para hacer repetible el experimento.\n",
    "\n",
    "Evaluar sobre el conjunto de **entrenamiento** y sobre el conjunto de **evaluación**, reportando:\n",
    "- Accuracy\n",
    "- Precision\n",
    "- Recall\n",
    "- F1\n",
    "- matriz de confusión\n"
   ]
  },
  {
   "cell_type": "code",
   "execution_count": 26,
   "metadata": {},
   "outputs": [],
   "source": [
    "from sklearn.tree import DecisionTreeClassifier"
   ]
  },
  {
   "cell_type": "code",
   "execution_count": 27,
   "metadata": {},
   "outputs": [
    {
     "data": {
      "text/plain": [
       "DecisionTreeClassifier(ccp_alpha=0.0, class_weight=None, criterion='gini',\n",
       "                       max_depth=None, max_features=None, max_leaf_nodes=None,\n",
       "                       min_impurity_decrease=0.0, min_impurity_split=None,\n",
       "                       min_samples_leaf=1, min_samples_split=2,\n",
       "                       min_weight_fraction_leaf=0.0, presort='deprecated',\n",
       "                       random_state=4253143, splitter='best')"
      ]
     },
     "execution_count": 27,
     "metadata": {},
     "output_type": "execute_result"
    }
   ],
   "source": [
    "tree_clf = DecisionTreeClassifier(random_state=rnd_st)\n",
    "tree_clf.fit(X_train, y_train)"
   ]
  },
  {
   "cell_type": "markdown",
   "metadata": {},
   "source": [
    "#### Metricas Entrenamiento"
   ]
  },
  {
   "cell_type": "code",
   "execution_count": 28,
   "metadata": {},
   "outputs": [
    {
     "name": "stdout",
     "output_type": "stream",
     "text": [
      "Accuracy 1.0\n",
      "----------------------------------------------------------------------------------------------------\n",
      "              precision    recall  f1-score   support\n",
      "\n",
      "           0       1.00      1.00      1.00      1230\n",
      "           1       1.00      1.00      1.00       253\n",
      "\n",
      "    accuracy                           1.00      1483\n",
      "   macro avg       1.00      1.00      1.00      1483\n",
      "weighted avg       1.00      1.00      1.00      1483\n",
      "\n"
     ]
    },
    {
     "data": {
      "image/png": "[encoded data removed]",
      "text/plain": [
       "<Figure size 432x288 with 2 Axes>"
      ]
     },
     "metadata": {
      "needs_background": "light"
     },
     "output_type": "display_data"
    }
   ],
   "source": [
    "y_pred_train = tree_clf.predict(X_train)\n",
    "print_classification_report(y_train, y_pred_train)"
   ]
  },
  {
   "cell_type": "markdown",
   "metadata": {},
   "source": [
    "#### Metricas Validacion"
   ]
  },
  {
   "cell_type": "code",
   "execution_count": 29,
   "metadata": {},
   "outputs": [
    {
     "name": "stdout",
     "output_type": "stream",
     "text": [
      "Accuracy 0.8975741239892183\n",
      "----------------------------------------------------------------------------------------------------\n",
      "              precision    recall  f1-score   support\n",
      "\n",
      "           0       0.94      0.94      0.94       315\n",
      "           1       0.66      0.66      0.66        56\n",
      "\n",
      "    accuracy                           0.90       371\n",
      "   macro avg       0.80      0.80      0.80       371\n",
      "weighted avg       0.90      0.90      0.90       371\n",
      "\n"
     ]
    },
    {
     "data": {
      "image/png": "[encoded data removed]",
      "text/plain": [
       "<Figure size 432x288 with 2 Axes>"
      ]
     },
     "metadata": {
      "needs_background": "light"
     },
     "output_type": "display_data"
    }
   ],
   "source": [
    "y_pred_test = tree_clf.predict(X_test)\n",
    "print_classification_report(y_test, y_pred_test)"
   ]
  },
  {
   "cell_type": "markdown",
   "metadata": {},
   "source": [
    "Es posible ver como el arbol esta overfiteando los datos de entrenamiento, ya que no comete errores de ningun tipo, pero si aparecen errores en la validacion"
   ]
  },
  {
   "cell_type": "markdown",
   "metadata": {},
   "source": [
    "### Ejercicio 3.2: Ajuste de Hiperparámetros\n",
    "\n",
    "Seleccionar valores para los hiperparámetros principales del DecisionTreeClassifier. Como mínimo, probar diferentes criterios de partición (criterion), profundidad máxima del árbol (max_depth), y cantidad mínima de samples por hoja (min_samples_leaf).\n",
    "\n",
    "Para ello, usar grid-search y 5-fold cross-validation sobre el conjunto de entrenamiento para explorar muchas combinaciones posibles de valores.\n",
    "\n",
    "Reportar accuracy promedio y varianza para todas las configuraciones.\n",
    "\n",
    "Para la mejor configuración encontrada, evaluar sobre el conjunto de **entrenamiento** y sobre el conjunto de **evaluación**, reportando:\n",
    "- Accuracy\n",
    "- Precision\n",
    "- Recall\n",
    "- F1\n",
    "- matriz de confusión\n",
    "\n",
    "\n",
    "Documentación:\n",
    "- https://scikit-learn.org/stable/modules/grid_search.html\n",
    "- https://scikit-learn.org/stable/modules/generated/sklearn.model_selection.GridSearchCV.html"
   ]
  },
  {
   "cell_type": "code",
   "execution_count": 30,
   "metadata": {},
   "outputs": [],
   "source": [
    "param_grid = {\n",
    "    \"criterion\":['gini', 'entropy'],\n",
    "    \"max_depth\": [5, 7, 10, 12],\n",
    "    \"min_samples_leaf\": [1, 2, 3, 5, 7, 10, 15, 20],\n",
    "    }\n",
    "grid_tree = GridSearchCV(tree_clf, param_grid=param_grid, cv=5, scoring=\"accuracy\")"
   ]
  },
  {
   "cell_type": "code",
   "execution_count": 31,
   "metadata": {},
   "outputs": [
    {
     "data": {
      "text/plain": [
       "GridSearchCV(cv=5, error_score=nan,\n",
       "             estimator=DecisionTreeClassifier(ccp_alpha=0.0, class_weight=None,\n",
       "                                              criterion='gini', max_depth=None,\n",
       "                                              max_features=None,\n",
       "                                              max_leaf_nodes=None,\n",
       "                                              min_impurity_decrease=0.0,\n",
       "                                              min_impurity_split=None,\n",
       "                                              min_samples_leaf=1,\n",
       "                                              min_samples_split=2,\n",
       "                                              min_weight_fraction_leaf=0.0,\n",
       "                                              presort='deprecated',\n",
       "                                              random_state=4253143,\n",
       "                                              splitter='best'),\n",
       "             iid='deprecated', n_jobs=None,\n",
       "             param_grid={'criterion': ['gini', 'entropy'],\n",
       "                         'max_depth': [5, 7, 10, 12],\n",
       "                         'min_samples_leaf': [1, 2, 3, 5, 7, 10, 15, 20]},\n",
       "             pre_dispatch='2*n_jobs', refit=True, return_train_score=False,\n",
       "             scoring='accuracy', verbose=0)"
      ]
     },
     "execution_count": 31,
     "metadata": {},
     "output_type": "execute_result"
    }
   ],
   "source": [
    "grid_tree.fit(X_train, y_train)"
   ]
  },
  {
   "cell_type": "code",
   "execution_count": 32,
   "metadata": {},
   "outputs": [
    {
     "name": "stdout",
     "output_type": "stream",
     "text": [
      "0.8813 (+/-0.0181) para {'criterion': 'entropy', 'max_depth': 10, 'min_samples_leaf': 1}\n",
      "0.8800 (+/-0.0248) para {'criterion': 'entropy', 'max_depth': 7, 'min_samples_leaf': 5}\n",
      "0.8800 (+/-0.0284) para {'criterion': 'gini', 'max_depth': 10, 'min_samples_leaf': 3}\n",
      "0.8793 (+/-0.0285) para {'criterion': 'entropy', 'max_depth': 7, 'min_samples_leaf': 1}\n",
      "0.8786 (+/-0.0313) para {'criterion': 'gini', 'max_depth': 7, 'min_samples_leaf': 2}\n",
      "0.8786 (+/-0.0289) para {'criterion': 'gini', 'max_depth': 7, 'min_samples_leaf': 1}\n",
      "0.8786 (+/-0.0276) para {'criterion': 'entropy', 'max_depth': 7, 'min_samples_leaf': 3}\n",
      "0.8786 (+/-0.0256) para {'criterion': 'entropy', 'max_depth': 7, 'min_samples_leaf': 2}\n",
      "0.8780 (+/-0.0265) para {'criterion': 'gini', 'max_depth': 7, 'min_samples_leaf': 3}\n",
      "0.8766 (+/-0.0232) para {'criterion': 'gini', 'max_depth': 7, 'min_samples_leaf': 5}\n",
      "0.8746 (+/-0.0391) para {'criterion': 'gini', 'max_depth': 10, 'min_samples_leaf': 1}\n",
      "0.8746 (+/-0.0254) para {'criterion': 'gini', 'max_depth': 7, 'min_samples_leaf': 15}\n",
      "0.8733 (+/-0.0288) para {'criterion': 'gini', 'max_depth': 7, 'min_samples_leaf': 7}\n",
      "0.8732 (+/-0.0275) para {'criterion': 'gini', 'max_depth': 7, 'min_samples_leaf': 10}\n",
      "0.8732 (+/-0.0240) para {'criterion': 'gini', 'max_depth': 5, 'min_samples_leaf': 15}\n",
      "0.8732 (+/-0.0244) para {'criterion': 'entropy', 'max_depth': 12, 'min_samples_leaf': 15}\n",
      "0.8732 (+/-0.0241) para {'criterion': 'gini', 'max_depth': 12, 'min_samples_leaf': 15}\n",
      "0.8726 (+/-0.0429) para {'criterion': 'gini', 'max_depth': 10, 'min_samples_leaf': 2}\n",
      "0.8726 (+/-0.0231) para {'criterion': 'gini', 'max_depth': 5, 'min_samples_leaf': 5}\n",
      "0.8726 (+/-0.0294) para {'criterion': 'entropy', 'max_depth': 10, 'min_samples_leaf': 2}\n",
      "0.8726 (+/-0.0200) para {'criterion': 'entropy', 'max_depth': 5, 'min_samples_leaf': 10}\n",
      "0.8719 (+/-0.0201) para {'criterion': 'entropy', 'max_depth': 7, 'min_samples_leaf': 15}\n",
      "0.8719 (+/-0.0182) para {'criterion': 'gini', 'max_depth': 5, 'min_samples_leaf': 2}\n",
      "0.8719 (+/-0.0197) para {'criterion': 'entropy', 'max_depth': 5, 'min_samples_leaf': 15}\n",
      "0.8712 (+/-0.0152) para {'criterion': 'gini', 'max_depth': 5, 'min_samples_leaf': 3}\n",
      "0.8712 (+/-0.0212) para {'criterion': 'gini', 'max_depth': 10, 'min_samples_leaf': 15}\n",
      "0.8712 (+/-0.0346) para {'criterion': 'gini', 'max_depth': 12, 'min_samples_leaf': 3}\n",
      "0.8706 (+/-0.0323) para {'criterion': 'entropy', 'max_depth': 10, 'min_samples_leaf': 3}\n",
      "0.8706 (+/-0.0487) para {'criterion': 'gini', 'max_depth': 12, 'min_samples_leaf': 2}\n",
      "0.8705 (+/-0.0141) para {'criterion': 'gini', 'max_depth': 5, 'min_samples_leaf': 10}\n",
      "0.8705 (+/-0.0114) para {'criterion': 'entropy', 'max_depth': 5, 'min_samples_leaf': 20}\n",
      "0.8699 (+/-0.0232) para {'criterion': 'entropy', 'max_depth': 10, 'min_samples_leaf': 15}\n",
      "0.8699 (+/-0.0327) para {'criterion': 'entropy', 'max_depth': 12, 'min_samples_leaf': 1}\n",
      "0.8699 (+/-0.0147) para {'criterion': 'entropy', 'max_depth': 7, 'min_samples_leaf': 20}\n",
      "0.8699 (+/-0.0154) para {'criterion': 'gini', 'max_depth': 5, 'min_samples_leaf': 1}\n",
      "0.8699 (+/-0.0191) para {'criterion': 'entropy', 'max_depth': 5, 'min_samples_leaf': 5}\n",
      "0.8699 (+/-0.0171) para {'criterion': 'entropy', 'max_depth': 5, 'min_samples_leaf': 7}\n",
      "0.8692 (+/-0.0431) para {'criterion': 'entropy', 'max_depth': 12, 'min_samples_leaf': 2}\n",
      "0.8692 (+/-0.0243) para {'criterion': 'gini', 'max_depth': 10, 'min_samples_leaf': 5}\n",
      "0.8692 (+/-0.0164) para {'criterion': 'gini', 'max_depth': 7, 'min_samples_leaf': 20}\n",
      "0.8692 (+/-0.0164) para {'criterion': 'gini', 'max_depth': 10, 'min_samples_leaf': 20}\n",
      "0.8692 (+/-0.0142) para {'criterion': 'entropy', 'max_depth': 7, 'min_samples_leaf': 7}\n",
      "0.8685 (+/-0.0222) para {'criterion': 'entropy', 'max_depth': 10, 'min_samples_leaf': 5}\n",
      "0.8685 (+/-0.0187) para {'criterion': 'entropy', 'max_depth': 7, 'min_samples_leaf': 10}\n",
      "0.8685 (+/-0.0150) para {'criterion': 'gini', 'max_depth': 5, 'min_samples_leaf': 7}\n",
      "0.8679 (+/-0.0261) para {'criterion': 'entropy', 'max_depth': 5, 'min_samples_leaf': 1}\n",
      "0.8679 (+/-0.0261) para {'criterion': 'entropy', 'max_depth': 5, 'min_samples_leaf': 2}\n",
      "0.8672 (+/-0.0258) para {'criterion': 'entropy', 'max_depth': 5, 'min_samples_leaf': 3}\n",
      "0.8672 (+/-0.0237) para {'criterion': 'gini', 'max_depth': 12, 'min_samples_leaf': 20}\n",
      "0.8665 (+/-0.0262) para {'criterion': 'gini', 'max_depth': 5, 'min_samples_leaf': 20}\n",
      "0.8665 (+/-0.0199) para {'criterion': 'entropy', 'max_depth': 12, 'min_samples_leaf': 5}\n",
      "0.8658 (+/-0.0314) para {'criterion': 'gini', 'max_depth': 12, 'min_samples_leaf': 1}\n",
      "0.8658 (+/-0.0311) para {'criterion': 'gini', 'max_depth': 12, 'min_samples_leaf': 5}\n",
      "0.8651 (+/-0.0173) para {'criterion': 'gini', 'max_depth': 10, 'min_samples_leaf': 10}\n",
      "0.8645 (+/-0.0284) para {'criterion': 'entropy', 'max_depth': 12, 'min_samples_leaf': 3}\n",
      "0.8638 (+/-0.0298) para {'criterion': 'entropy', 'max_depth': 12, 'min_samples_leaf': 20}\n",
      "0.8631 (+/-0.0217) para {'criterion': 'gini', 'max_depth': 12, 'min_samples_leaf': 10}\n",
      "0.8625 (+/-0.0215) para {'criterion': 'gini', 'max_depth': 10, 'min_samples_leaf': 7}\n",
      "0.8604 (+/-0.0429) para {'criterion': 'entropy', 'max_depth': 10, 'min_samples_leaf': 20}\n",
      "0.8598 (+/-0.0314) para {'criterion': 'gini', 'max_depth': 12, 'min_samples_leaf': 7}\n",
      "0.8598 (+/-0.0258) para {'criterion': 'entropy', 'max_depth': 12, 'min_samples_leaf': 7}\n",
      "0.8584 (+/-0.0289) para {'criterion': 'entropy', 'max_depth': 10, 'min_samples_leaf': 7}\n",
      "0.8577 (+/-0.0430) para {'criterion': 'entropy', 'max_depth': 12, 'min_samples_leaf': 10}\n",
      "0.8564 (+/-0.0386) para {'criterion': 'entropy', 'max_depth': 10, 'min_samples_leaf': 10}\n",
      "\n"
     ]
    }
   ],
   "source": [
    "means = grid_tree.cv_results_['mean_test_score']\n",
    "stds = grid_tree.cv_results_['std_test_score']\n",
    "for mean, std, params in sorted(zip(means, stds, grid_tree.cv_results_['params']), \n",
    "                                key=lambda data: data[0], reverse=True):\n",
    "    print(\"%0.4f (+/-%0.04f) para %r\" % (mean, std * 2, params))\n",
    "print()"
   ]
  },
  {
   "cell_type": "code",
   "execution_count": 33,
   "metadata": {},
   "outputs": [
    {
     "data": {
      "text/plain": [
       "DecisionTreeClassifier(ccp_alpha=0.0, class_weight=None, criterion='entropy',\n",
       "                       max_depth=10, max_features=None, max_leaf_nodes=None,\n",
       "                       min_impurity_decrease=0.0, min_impurity_split=None,\n",
       "                       min_samples_leaf=1, min_samples_split=2,\n",
       "                       min_weight_fraction_leaf=0.0, presort='deprecated',\n",
       "                       random_state=4253143, splitter='best')"
      ]
     },
     "execution_count": 33,
     "metadata": {},
     "output_type": "execute_result"
    }
   ],
   "source": [
    "best_tree = grid_tree.best_estimator_\n",
    "best_tree.fit(X_train, y_train)"
   ]
  },
  {
   "cell_type": "markdown",
   "metadata": {},
   "source": [
    "#### Metricas Entrenamieto "
   ]
  },
  {
   "cell_type": "code",
   "execution_count": 34,
   "metadata": {},
   "outputs": [
    {
     "name": "stdout",
     "output_type": "stream",
     "text": [
      "Accuracy 0.9507754551584626\n",
      "----------------------------------------------------------------------------------------------------\n",
      "              precision    recall  f1-score   support\n",
      "\n",
      "           0       0.95      1.00      0.97      1230\n",
      "           1       0.97      0.74      0.84       253\n",
      "\n",
      "    accuracy                           0.95      1483\n",
      "   macro avg       0.96      0.87      0.90      1483\n",
      "weighted avg       0.95      0.95      0.95      1483\n",
      "\n"
     ]
    },
    {
     "data": {
      "image/png": "[encoded data removed]",
      "text/plain": [
       "<Figure size 432x288 with 2 Axes>"
      ]
     },
     "metadata": {
      "needs_background": "light"
     },
     "output_type": "display_data"
    }
   ],
   "source": [
    "y_pred_train = best_tree.predict(X_train)\n",
    "print_classification_report(y_train, y_pred_train)"
   ]
  },
  {
   "cell_type": "markdown",
   "metadata": {},
   "source": [
    "Vemos que el modelo ya no puede overfitear los datos de entrenamiento. Veamos que pasa en validacion"
   ]
  },
  {
   "cell_type": "markdown",
   "metadata": {},
   "source": [
    "#### Metricas Validacion "
   ]
  },
  {
   "cell_type": "code",
   "execution_count": 35,
   "metadata": {},
   "outputs": [
    {
     "name": "stdout",
     "output_type": "stream",
     "text": [
      "Accuracy 0.8840970350404312\n",
      "----------------------------------------------------------------------------------------------------\n",
      "              precision    recall  f1-score   support\n",
      "\n",
      "           0       0.90      0.97      0.93       315\n",
      "           1       0.70      0.41      0.52        56\n",
      "\n",
      "    accuracy                           0.88       371\n",
      "   macro avg       0.80      0.69      0.73       371\n",
      "weighted avg       0.87      0.88      0.87       371\n",
      "\n"
     ]
    },
    {
     "data": {
      "image/png": "[encoded data removed]",
      "text/plain": [
       "<Figure size 432x288 with 2 Axes>"
      ]
     },
     "metadata": {
      "needs_background": "light"
     },
     "output_type": "display_data"
    }
   ],
   "source": [
    "y_pred_test = best_tree.predict(X_test)\n",
    "print_classification_report(y_test, y_pred_test)"
   ]
  },
  {
   "cell_type": "markdown",
   "metadata": {},
   "source": [
    "### Extra: Prueba con usando scoring=recall"
   ]
  },
  {
   "cell_type": "code",
   "execution_count": 36,
   "metadata": {},
   "outputs": [],
   "source": [
    "param_grid = {\n",
    "    \"criterion\":['gini', 'entropy'],\n",
    "    \"max_depth\": [5, 7, 10, 12],\n",
    "    \"min_samples_leaf\": [1, 2, 3, 5, 7, 10, 15, 20],\n",
    "    }\n",
    "grid_tree_recall = GridSearchCV(tree_clf, param_grid=param_grid, cv=5, scoring=\"recall\")"
   ]
  },
  {
   "cell_type": "code",
   "execution_count": 37,
   "metadata": {},
   "outputs": [
    {
     "name": "stdout",
     "output_type": "stream",
     "text": [
      "0.5418 (+/-0.0955) para {'criterion': 'entropy', 'max_depth': 12, 'min_samples_leaf': 1}\n",
      "0.5304 (+/-0.1624) para {'criterion': 'entropy', 'max_depth': 12, 'min_samples_leaf': 5}\n",
      "0.5184 (+/-0.1347) para {'criterion': 'entropy', 'max_depth': 12, 'min_samples_leaf': 7}\n",
      "0.5104 (+/-0.1072) para {'criterion': 'entropy', 'max_depth': 12, 'min_samples_leaf': 3}\n",
      "0.5065 (+/-0.1306) para {'criterion': 'entropy', 'max_depth': 12, 'min_samples_leaf': 2}\n",
      "0.5026 (+/-0.1359) para {'criterion': 'entropy', 'max_depth': 10, 'min_samples_leaf': 7}\n",
      "0.4986 (+/-0.1792) para {'criterion': 'gini', 'max_depth': 12, 'min_samples_leaf': 3}\n",
      "0.4944 (+/-0.0944) para {'criterion': 'entropy', 'max_depth': 10, 'min_samples_leaf': 1}\n",
      "0.4906 (+/-0.1556) para {'criterion': 'gini', 'max_depth': 10, 'min_samples_leaf': 3}\n",
      "0.4869 (+/-0.1898) para {'criterion': 'gini', 'max_depth': 12, 'min_samples_leaf': 15}\n",
      "0.4867 (+/-0.1373) para {'criterion': 'entropy', 'max_depth': 10, 'min_samples_leaf': 5}\n",
      "0.4867 (+/-0.1350) para {'criterion': 'entropy', 'max_depth': 12, 'min_samples_leaf': 15}\n",
      "0.4866 (+/-0.0907) para {'criterion': 'entropy', 'max_depth': 10, 'min_samples_leaf': 2}\n",
      "0.4866 (+/-0.1203) para {'criterion': 'entropy', 'max_depth': 10, 'min_samples_leaf': 20}\n",
      "0.4866 (+/-0.1203) para {'criterion': 'entropy', 'max_depth': 12, 'min_samples_leaf': 20}\n",
      "0.4865 (+/-0.0993) para {'criterion': 'gini', 'max_depth': 12, 'min_samples_leaf': 7}\n",
      "0.4830 (+/-0.1859) para {'criterion': 'entropy', 'max_depth': 10, 'min_samples_leaf': 3}\n",
      "0.4825 (+/-0.1103) para {'criterion': 'gini', 'max_depth': 12, 'min_samples_leaf': 5}\n",
      "0.4751 (+/-0.1994) para {'criterion': 'gini', 'max_depth': 7, 'min_samples_leaf': 15}\n",
      "0.4751 (+/-0.1994) para {'criterion': 'gini', 'max_depth': 10, 'min_samples_leaf': 15}\n",
      "0.4711 (+/-0.1651) para {'criterion': 'entropy', 'max_depth': 10, 'min_samples_leaf': 15}\n",
      "0.4708 (+/-0.1228) para {'criterion': 'entropy', 'max_depth': 12, 'min_samples_leaf': 10}\n",
      "0.4707 (+/-0.1392) para {'criterion': 'gini', 'max_depth': 10, 'min_samples_leaf': 5}\n",
      "0.4669 (+/-0.1107) para {'criterion': 'entropy', 'max_depth': 10, 'min_samples_leaf': 10}\n",
      "0.4668 (+/-0.1180) para {'criterion': 'gini', 'max_depth': 10, 'min_samples_leaf': 7}\n",
      "0.4667 (+/-0.1324) para {'criterion': 'gini', 'max_depth': 7, 'min_samples_leaf': 20}\n",
      "0.4667 (+/-0.1324) para {'criterion': 'gini', 'max_depth': 10, 'min_samples_leaf': 20}\n",
      "0.4627 (+/-0.1419) para {'criterion': 'gini', 'max_depth': 12, 'min_samples_leaf': 20}\n",
      "0.4595 (+/-0.2228) para {'criterion': 'gini', 'max_depth': 5, 'min_samples_leaf': 15}\n",
      "0.4549 (+/-0.1363) para {'criterion': 'gini', 'max_depth': 12, 'min_samples_leaf': 2}\n",
      "0.4547 (+/-0.0615) para {'criterion': 'gini', 'max_depth': 12, 'min_samples_leaf': 1}\n",
      "0.4471 (+/-0.1881) para {'criterion': 'gini', 'max_depth': 5, 'min_samples_leaf': 20}\n",
      "0.4468 (+/-0.0853) para {'criterion': 'gini', 'max_depth': 7, 'min_samples_leaf': 5}\n",
      "0.4468 (+/-0.0591) para {'criterion': 'gini', 'max_depth': 12, 'min_samples_leaf': 10}\n",
      "0.4431 (+/-0.1111) para {'criterion': 'gini', 'max_depth': 7, 'min_samples_leaf': 7}\n",
      "0.4431 (+/-0.1076) para {'criterion': 'entropy', 'max_depth': 7, 'min_samples_leaf': 20}\n",
      "0.4430 (+/-0.1042) para {'criterion': 'gini', 'max_depth': 7, 'min_samples_leaf': 3}\n",
      "0.4430 (+/-0.1275) para {'criterion': 'gini', 'max_depth': 10, 'min_samples_leaf': 2}\n",
      "0.4429 (+/-0.0600) para {'criterion': 'gini', 'max_depth': 7, 'min_samples_leaf': 10}\n",
      "0.4429 (+/-0.0600) para {'criterion': 'gini', 'max_depth': 10, 'min_samples_leaf': 10}\n",
      "0.4390 (+/-0.0595) para {'criterion': 'entropy', 'max_depth': 7, 'min_samples_leaf': 7}\n",
      "0.4352 (+/-0.1211) para {'criterion': 'gini', 'max_depth': 10, 'min_samples_leaf': 1}\n",
      "0.4314 (+/-0.1571) para {'criterion': 'gini', 'max_depth': 5, 'min_samples_leaf': 10}\n",
      "0.4311 (+/-0.0996) para {'criterion': 'entropy', 'max_depth': 5, 'min_samples_leaf': 20}\n",
      "0.4276 (+/-0.1537) para {'criterion': 'entropy', 'max_depth': 7, 'min_samples_leaf': 15}\n",
      "0.4195 (+/-0.1250) para {'criterion': 'gini', 'max_depth': 7, 'min_samples_leaf': 2}\n",
      "0.4156 (+/-0.1938) para {'criterion': 'gini', 'max_depth': 5, 'min_samples_leaf': 5}\n",
      "0.4152 (+/-0.0751) para {'criterion': 'entropy', 'max_depth': 7, 'min_samples_leaf': 10}\n",
      "0.4115 (+/-0.1491) para {'criterion': 'gini', 'max_depth': 5, 'min_samples_leaf': 7}\n",
      "0.4115 (+/-0.0978) para {'criterion': 'entropy', 'max_depth': 7, 'min_samples_leaf': 5}\n",
      "0.4114 (+/-0.0825) para {'criterion': 'gini', 'max_depth': 7, 'min_samples_leaf': 1}\n",
      "0.4078 (+/-0.1737) para {'criterion': 'gini', 'max_depth': 5, 'min_samples_leaf': 3}\n",
      "0.4038 (+/-0.1776) para {'criterion': 'gini', 'max_depth': 5, 'min_samples_leaf': 2}\n",
      "0.4036 (+/-0.1295) para {'criterion': 'entropy', 'max_depth': 7, 'min_samples_leaf': 1}\n",
      "0.3958 (+/-0.1502) para {'criterion': 'gini', 'max_depth': 5, 'min_samples_leaf': 1}\n",
      "0.3958 (+/-0.1324) para {'criterion': 'entropy', 'max_depth': 5, 'min_samples_leaf': 15}\n",
      "0.3958 (+/-0.1160) para {'criterion': 'entropy', 'max_depth': 7, 'min_samples_leaf': 2}\n",
      "0.3958 (+/-0.1286) para {'criterion': 'entropy', 'max_depth': 7, 'min_samples_leaf': 3}\n",
      "0.3520 (+/-0.0627) para {'criterion': 'entropy', 'max_depth': 5, 'min_samples_leaf': 10}\n",
      "0.3482 (+/-0.0882) para {'criterion': 'entropy', 'max_depth': 5, 'min_samples_leaf': 5}\n",
      "0.3405 (+/-0.1223) para {'criterion': 'entropy', 'max_depth': 5, 'min_samples_leaf': 1}\n",
      "0.3405 (+/-0.1223) para {'criterion': 'entropy', 'max_depth': 5, 'min_samples_leaf': 2}\n",
      "0.3405 (+/-0.1223) para {'criterion': 'entropy', 'max_depth': 5, 'min_samples_leaf': 3}\n",
      "0.3362 (+/-0.0486) para {'criterion': 'entropy', 'max_depth': 5, 'min_samples_leaf': 7}\n",
      "\n"
     ]
    }
   ],
   "source": [
    "grid_tree_recall.fit(X_train, y_train)\n",
    "means = grid_tree_recall.cv_results_['mean_test_score']\n",
    "stds = grid_tree_recall.cv_results_['std_test_score']\n",
    "for mean, std, params in sorted(zip(means, stds, grid_tree_recall.cv_results_['params']), \n",
    "                                key=lambda data: data[0], reverse=True):\n",
    "    print(\"%0.4f (+/-%0.04f) para %r\" % (mean, std * 2, params))\n",
    "print()"
   ]
  },
  {
   "cell_type": "code",
   "execution_count": 38,
   "metadata": {},
   "outputs": [
    {
     "data": {
      "text/plain": [
       "DecisionTreeClassifier(ccp_alpha=0.0, class_weight=None, criterion='entropy',\n",
       "                       max_depth=12, max_features=None, max_leaf_nodes=None,\n",
       "                       min_impurity_decrease=0.0, min_impurity_split=None,\n",
       "                       min_samples_leaf=1, min_samples_split=2,\n",
       "                       min_weight_fraction_leaf=0.0, presort='deprecated',\n",
       "                       random_state=4253143, splitter='best')"
      ]
     },
     "execution_count": 38,
     "metadata": {},
     "output_type": "execute_result"
    }
   ],
   "source": [
    "best_tree_recall = grid_tree_recall.best_estimator_\n",
    "best_tree_recall.fit(X_train, y_train)"
   ]
  },
  {
   "cell_type": "markdown",
   "metadata": {},
   "source": [
    "#### Metricas Entrenamiento"
   ]
  },
  {
   "cell_type": "code",
   "execution_count": 39,
   "metadata": {},
   "outputs": [
    {
     "name": "stdout",
     "output_type": "stream",
     "text": [
      "Accuracy 0.9669588671611599\n",
      "----------------------------------------------------------------------------------------------------\n",
      "              precision    recall  f1-score   support\n",
      "\n",
      "           0       0.97      0.99      0.98      1230\n",
      "           1       0.95      0.85      0.90       253\n",
      "\n",
      "    accuracy                           0.97      1483\n",
      "   macro avg       0.96      0.92      0.94      1483\n",
      "weighted avg       0.97      0.97      0.97      1483\n",
      "\n"
     ]
    },
    {
     "data": {
      "image/png": "[encoded data removed]",
      "text/plain": [
       "<Figure size 432x288 with 2 Axes>"
      ]
     },
     "metadata": {
      "needs_background": "light"
     },
     "output_type": "display_data"
    }
   ],
   "source": [
    "y_pred_train_rec = best_tree_recall.predict(X_train)\n",
    "print_classification_report(y_train, y_pred_train_rec)"
   ]
  },
  {
   "cell_type": "markdown",
   "metadata": {},
   "source": [
    "#### Metricas Validacion"
   ]
  },
  {
   "cell_type": "code",
   "execution_count": 40,
   "metadata": {},
   "outputs": [
    {
     "name": "stdout",
     "output_type": "stream",
     "text": [
      "Accuracy 0.8814016172506739\n",
      "----------------------------------------------------------------------------------------------------\n",
      "              precision    recall  f1-score   support\n",
      "\n",
      "           0       0.91      0.96      0.93       315\n",
      "           1       0.65      0.46      0.54        56\n",
      "\n",
      "    accuracy                           0.88       371\n",
      "   macro avg       0.78      0.71      0.74       371\n",
      "weighted avg       0.87      0.88      0.87       371\n",
      "\n"
     ]
    },
    {
     "data": {
      "image/png": "[encoded data removed]",
      "text/plain": [
       "<Figure size 432x288 with 2 Axes>"
      ]
     },
     "metadata": {
      "needs_background": "light"
     },
     "output_type": "display_data"
    }
   ],
   "source": [
    "y_pred_test_rec = best_tree_recall.predict(X_test)\n",
    "print_classification_report(y_test, y_pred_test_rec)"
   ]
  },
  {
   "cell_type": "code",
   "execution_count": null,
   "metadata": {},
   "outputs": [],
   "source": []
  },
  {
   "cell_type": "code",
   "execution_count": null,
   "metadata": {},
   "outputs": [],
   "source": []
  },
  {
   "cell_type": "code",
   "execution_count": null,
   "metadata": {},
   "outputs": [],
   "source": []
  },
  {
   "cell_type": "markdown",
   "metadata": {},
   "source": [
    "_________________________________\n",
    "Recordemos los scores del SGDClassifier\n",
    "_________________________________"
   ]
  },
  {
   "cell_type": "code",
   "execution_count": 41,
   "metadata": {},
   "outputs": [
    {
     "name": "stdout",
     "output_type": "stream",
     "text": [
      "Accuracy 0.8840970350404312\n",
      "----------------------------------------------------------------------------------------------------\n",
      "              precision    recall  f1-score   support\n",
      "\n",
      "           0       0.88      0.99      0.94       315\n",
      "           1       0.88      0.27      0.41        56\n",
      "\n",
      "    accuracy                           0.88       371\n",
      "   macro avg       0.88      0.63      0.67       371\n",
      "weighted avg       0.88      0.88      0.86       371\n",
      "\n"
     ]
    },
    {
     "data": {
      "image/png": "[encoded data removed]",
      "text/plain": [
       "<Figure size 432x288 with 2 Axes>"
      ]
     },
     "metadata": {
      "needs_background": "light"
     },
     "output_type": "display_data"
    }
   ],
   "source": [
    "y_sgd_pred_test = svg_best.predict(X_test)\n",
    "print_classification_report(y_test, y_sgd_pred_test)"
   ]
  },
  {
   "cell_type": "markdown",
   "metadata": {},
   "source": [
    "Vemos que el arbol de decicion mejora un poquito la performance del SGD. El mayor problema parece ser que las clases estan muy desbalanceadas y al algoritmo le cuesta reconocer bien los casos donde TARGET es 1"
   ]
  },
  {
   "cell_type": "code",
   "execution_count": null,
   "metadata": {},
   "outputs": [],
   "source": []
  },
  {
   "cell_type": "code",
   "execution_count": null,
   "metadata": {},
   "outputs": [],
   "source": []
  },
  {
   "cell_type": "code",
   "execution_count": null,
   "metadata": {},
   "outputs": [],
   "source": []
  },
  {
   "cell_type": "code",
   "execution_count": null,
   "metadata": {},
   "outputs": [],
   "source": []
  },
  {
   "cell_type": "code",
   "execution_count": null,
   "metadata": {},
   "outputs": [],
   "source": []
  }
 ],
 "metadata": {
  "kernelspec": {
   "display_name": "Python 3",
   "language": "python",
   "name": "python3"
  },
  "language_info": {
   "codemirror_mode": {
    "name": "ipython",
    "version": 3
   },
   "file_extension": ".py",
   "mimetype": "text/x-python",
   "name": "python",
   "nbconvert_exporter": "python",
   "pygments_lexer": "ipython3",
   "version": "3.7.6"
  },
  "toc": {
   "base_numbering": 1,
   "nav_menu": {},
   "number_sections": true,
   "sideBar": true,
   "skip_h1_title": false,
   "title_cell": "Table of Contents",
   "title_sidebar": "Contents",
   "toc_cell": false,
   "toc_position": {
    "height": "calc(100% - 180px)",
    "left": "10px",
    "top": "150px",
    "width": "254.727px"
   },
   "toc_section_display": true,
   "toc_window_display": true
  },
  "varInspector": {
   "cols": {
    "lenName": 16,
    "lenType": 16,
    "lenVar": 40
   },
   "kernels_config": {
    "python": {
     "delete_cmd_postfix": "",
     "delete_cmd_prefix": "del ",
     "library": "var_list.py",
     "varRefreshCmd": "print(var_dic_list())"
    },
    "r": {
     "delete_cmd_postfix": ") ",
     "delete_cmd_prefix": "rm(",
     "library": "var_list.r",
     "varRefreshCmd": "cat(var_dic_list()) "
    }
   },
   "types_to_exclude": [
    "module",
    "function",
    "builtin_function_or_method",
    "instance",
    "_Feature"
   ],
   "window_display": false
  }
 },
 "nbformat": 4,
 "nbformat_minor": 2
}
